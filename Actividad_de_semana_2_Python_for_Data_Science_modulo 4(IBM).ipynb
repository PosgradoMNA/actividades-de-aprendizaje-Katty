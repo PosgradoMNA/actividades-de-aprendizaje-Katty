{
  "nbformat": 4,
  "nbformat_minor": 0,
  "metadata": {
    "colab": {
      "provenance": [],
      "authorship_tag": "ABX9TyP5RVr1B3NtXPOLSw5ykJbk",
      "include_colab_link": true
    },
    "kernelspec": {
      "name": "python3",
      "display_name": "Python 3"
    },
    "language_info": {
      "name": "python"
    }
  },
  "cells": [
    {
      "cell_type": "markdown",
      "metadata": {
        "id": "view-in-github",
        "colab_type": "text"
      },
      "source": [
        "<a href=\"https://colab.research.google.com/github/PosgradoMNA/actividades-de-aprendizaje-Katty/blob/main/Actividad_de_semana_2_Python_for_Data_Science_modulo%204(IBM).ipynb\" target=\"_parent\"><img src=\"https://colab.research.google.com/assets/colab-badge.svg\" alt=\"Open In Colab\"/></a>"
      ]
    },
    {
      "cell_type": "code",
      "execution_count": null,
      "metadata": {
        "id": "4Yiw2n_Gpkmc"
      },
      "outputs": [],
      "source": [
        "### Desarrollo curso PHYTON"
      ]
    },
    {
      "cell_type": "markdown",
      "source": [
        "Capther 4"
      ],
      "metadata": {
        "id": "r6uSQVd4pr4H"
      }
    },
    {
      "cell_type": "markdown",
      "source": [
        "Lectura"
      ],
      "metadata": {
        "id": "pimubDnrVetn"
      }
    },
    {
      "cell_type": "code",
      "source": [
        "# File = open(ruta donde esta el archivo, modo (lectura7escritura))\n",
        "File = open (\"ruta donde esta el archivo\", \"r\")\n",
        "\n",
        "file.close()\n",
        "\n",
        "Leer un archivo\n",
        "\n",
        "extracto_1 = file.read()\n",
        "\n",
        "Para escribir en una nueva linea en una lista se usa \\n. ex [\"ejemplo 1 \\n\",\"ejemplo 2 \\n\",\"ejemplo 3 \\n\"]\n",
        "\n",
        "extraer un segmento de la linea\n",
        "\n",
        "extracto_2 = file.readlines(4)\n",
        "print(extracto_2)"
      ],
      "metadata": {
        "id": "_0b1WmZYR5gl"
      },
      "execution_count": null,
      "outputs": []
    },
    {
      "cell_type": "markdown",
      "source": [
        "##LABS"
      ],
      "metadata": {
        "id": "y5IZfAjnvjyW"
      }
    },
    {
      "cell_type": "code",
      "source": [
        "example1 = \"example1.txt\"\n",
        "file1 = open (example1, \"r\")\n",
        "\n",
        "file1.name #nombre de la fila\n",
        "file1.mode #imprime el modo del archivo es decir si esta en lectura o escritura\n",
        "Filecontent = file1.read() #lee el contenido asignado a la variable\n",
        "print(Filecontent) #imprime el archivo\n",
        "type(FileContent) #muestra de que tipo \n",
        "file1.close() #cierra el archivo\n",
        "\n",
        "#mejor forma de abrir los archivos\n",
        "\n",
        "with open(example1, \"r\") as file1:\n",
        "    FileContent = file1.read()\n",
        "    print(FileContent)\n",
        "\n",
        "file1.closed\n",
        "\n",
        "# llama los 4 primeros caracteres \n",
        "\n",
        "with open(example1, \"r\") as file1:\n",
        "    print(file1.read(4))\n",
        "\n",
        "#lectura de una linea\n",
        "\n",
        "with open(example1, \"r\") as file1:\n",
        "    print(\"first line: \" + file1.readline())\n",
        "\n",
        "#guarda el archivo como lista []\n",
        "\n",
        "with open(example1, \"r\") as file1:\n",
        "    FileasList = file1.readlines()\n"
      ],
      "metadata": {
        "id": "ZCdubu6IvAtB"
      },
      "execution_count": null,
      "outputs": []
    },
    {
      "cell_type": "markdown",
      "source": [
        "Escritura"
      ],
      "metadata": {
        "id": "a_-H3jONVbgs"
      }
    },
    {
      "cell_type": "code",
      "source": [
        "File = open (\"ruta donde esta el archivo\", \"w\")\n",
        "with open (\"ruta donde esta el archivo\", \"w\") as Extracto\n",
        "\n",
        "# la mencion /n baja la linea y queda ubicado en el renglon de abajo\n",
        "\n",
        "Extracto.write = (\"Linea A \\n\")\n",
        "Extracto.write = (\"Linea B \\n\")\n"
      ],
      "metadata": {
        "id": "kGqO-aJwVdqi"
      },
      "execution_count": null,
      "outputs": []
    },
    {
      "cell_type": "markdown",
      "source": [
        "##LABS"
      ],
      "metadata": {
        "id": "c27WV4-f2LtH"
      }
    },
    {
      "cell_type": "code",
      "source": [
        "# es este codigo asiganamos a la variable exmp2 el contenido del archivo Example2.txt, luego se abre en modo escritura \"w\" y escribimos \"This is Line A\"\n",
        "\n",
        "exmp2 = 'Example2.txt'\n",
        "with open(exmp2, 'w') as writefile:\n",
        "    writefile.write(\"This is line A\")\n",
        "\n",
        "# se abre en modo lectura y se escribe la primera linea\n",
        "with open(exmp2, 'r') as testwritefile:\n",
        "    print(testwritefile.read())\n",
        "\n",
        "# este codigo escribe 2 lineas A y B y deja espacios\n",
        "# escritura\n",
        "\n",
        "with open(exmp2, 'w') as writefile:\n",
        "    writefile.write(\"This is line A\\n\")\n",
        "    writefile.write(\"This is line B\\n\")\n",
        "#lectura\n",
        "with open(exmp2, 'r') as testwritefile:\n",
        "    print(testwritefile.read())\n",
        "\n",
        "#lista\n",
        "Lines = [\"This is line A\\n\", \"This is line B\\n\", \"This is line C\\n\"]\n",
        "Lines\n",
        "\n",
        "# lo vuelve lista\n",
        "\n",
        "with open('Example2.txt', 'w') as writefile:\n",
        "    for line in Lines:\n",
        "        print(line)\n",
        "        writefile.write(line)\n",
        "\n",
        "# el modo \"w\" sobreescribe los datos existentes en el archivo .txt\n",
        "with open('Example2.txt', 'r') as testwritefile:\n",
        "    print(testwritefile.read())\n",
        "\n",
        "## Adicion ##\n",
        "\n",
        "# el modo \"a\" adiciona datos, en este caso se adicionan 3 lineas C D y E\n",
        "\n",
        "with open('Example2.txt', 'a') as testwritefile:\n",
        "    testwritefile.write(\"This is line C\\n\")\n",
        "    testwritefile.write(\"This is line D\\n\")\n",
        "    testwritefile.write(\"This is line E\\n\")\n",
        "\n",
        "with open('Example2.txt', 'r') as testwritefile:\n",
        "    print(testwritefile.read())\n",
        "\n",
        "#r+ : Lectura y escritura. no trunca el archivo\n",
        "#w+ : Escritura y lectura. trunca el archivo\n",
        "#a+ : adicionar y leer. Crea un nuevo archivo\n",
        "\n",
        "with open('Example2.txt', 'a+') as testwritefile:\n",
        "    testwritefile.write(\"This is line E\\n\")\n",
        "    print(testwritefile.read())\n",
        "\n",
        "# modo para ubicar el cursor\n",
        "#.tell() devuelve la posicion actual\n",
        "#.seek(offset,from) mueve el cursos dependiendo las corrdenadas que se le den\n",
        "\n",
        "with open('Example2.txt', 'a+') as testwritefile:\n",
        "    print(\"Initial Location: {}\".format(testwritefile.tell()))\n",
        "    \n",
        "    data = testwritefile.read()\n",
        "    if (not data):  #celdas vacias devuelven read nothing\n",
        "            print('Read nothing') \n",
        "    else: \n",
        "            print(testwritefile.read())\n",
        "            \n",
        "    testwritefile.seek(0,0) # se mueve 0 bytes del inicio\n",
        "    \n",
        "    print(\"\\nNew Location : {}\".format(testwritefile.tell()))\n",
        "    data = testwritefile.read()\n",
        "    if (not data): \n",
        "            print('Read nothing') \n",
        "    else: \n",
        "            print(data)\n",
        "    \n",
        "    print(\"Location after read: {}\".format(testwritefile.tell()) )\n",
        "\n",
        "## Crear copia de un archivo##\n",
        "\n",
        "\n",
        "with open('Example2.txt','r') as readfile:\n",
        "    with open('Example3.txt','w') as writefile:\n",
        "          for line in readfile:\n",
        "                writefile.write(line)\n",
        "\n",
        "with open('Example3.txt','r') as testwritefile:\n",
        "    print(testwritefile.read())\n"
      ],
      "metadata": {
        "id": "0ljFpZc-2Njp",
        "outputId": "647eb842-2a6e-4929-d741-f438cba1e143",
        "colab": {
          "base_uri": "https://localhost:8080/"
        }
      },
      "execution_count": 17,
      "outputs": [
        {
          "output_type": "stream",
          "name": "stdout",
          "text": [
            "This is line A\n",
            "This is line A\n",
            "This is line B\n",
            "\n",
            "This is line A\n",
            "\n",
            "This is line B\n",
            "\n",
            "This is line C\n",
            "\n",
            "This is line A\n",
            "This is line B\n",
            "This is line C\n",
            "\n",
            "This is line A\n",
            "This is line B\n",
            "This is line C\n",
            "This is line C\n",
            "This is line D\n",
            "This is line E\n",
            "\n",
            "\n",
            "Initial Location: 105\n",
            "Read nothing\n",
            "\n",
            "New Location : 0\n",
            "This is line A\n",
            "This is line B\n",
            "This is line C\n",
            "This is line C\n",
            "This is line D\n",
            "This is line E\n",
            "This is line E\n",
            "\n",
            "Location after read: 105\n",
            "This is line A\n",
            "This is line B\n",
            "This is line C\n",
            "This is line C\n",
            "This is line D\n",
            "This is line E\n",
            "This is line E\n",
            "\n"
          ]
        }
      ]
    },
    {
      "cell_type": "markdown",
      "source": [
        "##Cargar data con pandas"
      ],
      "metadata": {
        "id": "XDAx_x_nWuVZ"
      }
    },
    {
      "cell_type": "code",
      "source": [
        "from ast import DictComp\n",
        "import pandas as example\n",
        "\n",
        "df = dataframe\n",
        "\n",
        "df = pandas.read_cvs(cvs_path)\n",
        "\n",
        "#acceder elementos con ix- pimero filas luego columnas\n",
        "\n",
        "df.ix[0,3]: \"reemplazo\" #1 fila / 4 columna\n",
        "\n",
        "#filtrar elementos unicos \n",
        "\n",
        "df[\"año de lanzamiento\"].unique()\n",
        "\n",
        "#traer datos mayores a 1980\n",
        "\n",
        "df[\"año de lanzamiento\"]>=1980\n",
        "\n",
        "nueva dataframe\n",
        "\n",
        "df1 = df[df[\"año de lanzamiento\"]>=1980]\n",
        "\n",
        "#guardar\n",
        "\n"
      ],
      "metadata": {
        "id": "Ezeyp8yGW0f3"
      },
      "execution_count": null,
      "outputs": []
    },
    {
      "cell_type": "markdown",
      "source": [
        "##LABS"
      ],
      "metadata": {
        "id": "xnLvAuI8XkZg"
      }
    },
    {
      "cell_type": "code",
      "source": [
        "\n",
        "import pandas as pd\n",
        "\n",
        "df = pd.read_csv(\"TopSellingAlbums.csv\")\n",
        "\n",
        "# muestra 5 primeras filas de la matriz\n",
        "df.head()\n",
        "\n",
        "#lee la informacion de un archivo de excel y muestra 5 primeras filas\n",
        "\n",
        "df = pd.read_excel(\"TopSellingAlbums.xlsx\")\n",
        "df.head()\n",
        "\n",
        "#muestra la columna \"length\" con sus respectivos datos\n",
        "x = df[['Length']]\n",
        "x\n",
        "#muestra la columna como una serie 1D \n",
        "x = df['Length']\n",
        "x\n",
        "#obtener una columna como matriz de datos\n",
        "x = df[['Artist']]\n",
        "type(x)\n",
        "\n",
        "#multiples columnas\n",
        "y = df[['Artist','Length','Genre']]\n",
        "y\n",
        "\n",
        "# Acceder a cierta ubicacion dentro de la matriz, fd.iloc[filas, columnas] 0, 1 es primera fila, segunda columna\n",
        "\n",
        "df.iloc[0, 0]\n",
        "\n",
        "# o poniendo df.loc - la fila a la cual se quiere llegar y la columna donde se encuentra esta informacion\n",
        "\n",
        "df.loc[1, 'Artist']\n",
        "\n",
        "# con este codigo se extrae una parte de la matriz\n",
        "\n",
        "df.iloc[0:2, 0:3]\n",
        "\n",
        "\n",
        "\n"
      ],
      "metadata": {
        "id": "LZq_fKdwXmjp"
      },
      "execution_count": null,
      "outputs": []
    }
  ]
}