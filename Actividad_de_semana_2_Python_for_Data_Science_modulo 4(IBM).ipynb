{
  "nbformat": 4,
  "nbformat_minor": 0,
  "metadata": {
    "colab": {
      "provenance": [],
      "authorship_tag": "ABX9TyMssUi5nBG1en/RnUZJpa50",
      "include_colab_link": true
    },
    "kernelspec": {
      "name": "python3",
      "display_name": "Python 3"
    },
    "language_info": {
      "name": "python"
    }
  },
  "cells": [
    {
      "cell_type": "markdown",
      "metadata": {
        "id": "view-in-github",
        "colab_type": "text"
      },
      "source": [
        "<a href=\"https://colab.research.google.com/github/PosgradoMNA/actividades-de-aprendizaje-Katty/blob/main/Actividad_de_semana_2_Python_for_Data_Science_modulo%204(IBM).ipynb\" target=\"_parent\"><img src=\"https://colab.research.google.com/assets/colab-badge.svg\" alt=\"Open In Colab\"/></a>"
      ]
    },
    {
      "cell_type": "code",
      "execution_count": null,
      "metadata": {
        "id": "4Yiw2n_Gpkmc"
      },
      "outputs": [],
      "source": [
        "### Desarrollo curso PHYTON"
      ]
    },
    {
      "cell_type": "markdown",
      "source": [
        "Capther 4"
      ],
      "metadata": {
        "id": "r6uSQVd4pr4H"
      }
    },
    {
      "cell_type": "markdown",
      "source": [
        "Lectura"
      ],
      "metadata": {
        "id": "pimubDnrVetn"
      }
    },
    {
      "cell_type": "code",
      "source": [
        "# File = open(ruta donde esta el archivo, modo (lectura7escritura))\n",
        "File = open (\"ruta donde esta el archivo\", \"r\")\n",
        "\n",
        "file.close()\n",
        "\n",
        "Leer un archivo\n",
        "\n",
        "extracto_1 = file.read()\n",
        "\n",
        "Para escribir en una nueva linea en una lista se usa \\n. ex [\"ejemplo 1 \\n\",\"ejemplo 2 \\n\",\"ejemplo 3 \\n\"]\n",
        "\n",
        "extraer un segmento de la linea\n",
        "\n",
        "extracto_2 = file.readlines(4)\n",
        "print(extracto_2)"
      ],
      "metadata": {
        "id": "_0b1WmZYR5gl"
      },
      "execution_count": null,
      "outputs": []
    },
    {
      "cell_type": "markdown",
      "source": [
        "Escritura"
      ],
      "metadata": {
        "id": "a_-H3jONVbgs"
      }
    },
    {
      "cell_type": "code",
      "source": [
        "File = open (\"ruta donde esta el archivo\", \"w\")\n",
        "with open (\"ruta donde esta el archivo\", \"w\") as Extracto\n",
        "\n",
        "Extracto.write = (\"Linea A \\n\")\n",
        "Extracto.write = (\"Linea B \\n\")\n"
      ],
      "metadata": {
        "id": "kGqO-aJwVdqi"
      },
      "execution_count": null,
      "outputs": []
    },
    {
      "cell_type": "markdown",
      "source": [
        "Cargar data con pandas"
      ],
      "metadata": {
        "id": "XDAx_x_nWuVZ"
      }
    },
    {
      "cell_type": "code",
      "source": [
        "from ast import DictComp\n",
        "import pandas as example\n",
        "\n",
        "df = dataframe\n",
        "\n",
        "df = pandas.read_cvs(cvs_path)\n",
        "\n",
        "#acceder elementos con ix- pimero filas luego columnas\n",
        "\n",
        "df.ix[0,3]: \"reemplazo\" #1 fila / 4 columna\n",
        "\n",
        "#filtrar elementos unicos \n",
        "\n",
        "df[\"año de lanzamiento\"].unique()\n",
        "\n",
        "#traer datos mayores a 1980\n",
        "\n",
        "df[\"año de lanzamiento\"]>=1980\n",
        "\n",
        "nueva dataframe\n",
        "\n",
        "df1 = df[df[\"año de lanzamiento\"]>=1980]\n",
        "\n",
        "#guardar\n",
        "\n"
      ],
      "metadata": {
        "id": "Ezeyp8yGW0f3"
      },
      "execution_count": 1,
      "outputs": []
    }
  ]
}