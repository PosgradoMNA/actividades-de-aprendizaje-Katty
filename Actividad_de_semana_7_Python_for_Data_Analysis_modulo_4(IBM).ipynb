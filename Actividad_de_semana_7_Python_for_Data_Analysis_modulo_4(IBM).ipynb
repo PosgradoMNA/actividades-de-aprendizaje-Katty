{
  "nbformat": 4,
  "nbformat_minor": 0,
  "metadata": {
    "colab": {
      "provenance": [],
      "authorship_tag": "ABX9TyPUbjFUB1U1Qky8T1jHko8U",
      "include_colab_link": true
    },
    "kernelspec": {
      "name": "python3",
      "display_name": "Python 3"
    },
    "language_info": {
      "name": "python"
    }
  },
  "cells": [
    {
      "cell_type": "markdown",
      "metadata": {
        "id": "view-in-github",
        "colab_type": "text"
      },
      "source": [
        "<a href=\"https://colab.research.google.com/github/PosgradoMNA/actividades-de-aprendizaje-Katty/blob/main/Actividad_de_semana_7_Python_for_Data_Analysis_modulo_4(IBM).ipynb\" target=\"_parent\"><img src=\"https://colab.research.google.com/assets/colab-badge.svg\" alt=\"Open In Colab\"/></a>"
      ]
    },
    {
      "cell_type": "markdown",
      "source": [
        "Nombre : Katherine Vanegas Salamanca\n",
        "\n",
        "Matricula : A01794113\n",
        "\n",
        "Materia: Ciencia de Datos\n",
        "\n",
        "Profesor:Maria de la Paz Rico / Roberto Antonio Guevara González\n",
        "\n",
        "Curso IBM Modulo 4 Data Analysis with Python"
      ],
      "metadata": {
        "id": "IQ9JjI2pyVYe"
      }
    },
    {
      "cell_type": "markdown",
      "source": [
        "##Model Development\n",
        "\n"
      ],
      "metadata": {
        "id": "OfuY7VIEygdR"
      }
    },
    {
      "cell_type": "code",
      "execution_count": null,
      "metadata": {
        "id": "6wG-HgmIyBcI"
      },
      "outputs": [],
      "source": []
    }
  ]
}