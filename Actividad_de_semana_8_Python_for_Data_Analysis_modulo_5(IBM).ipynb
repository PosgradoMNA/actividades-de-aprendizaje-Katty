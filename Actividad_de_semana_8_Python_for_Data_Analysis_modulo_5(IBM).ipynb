{
  "nbformat": 4,
  "nbformat_minor": 0,
  "metadata": {
    "colab": {
      "provenance": [],
      "authorship_tag": "ABX9TyPM1mUs2SGQ45+hbnDKlQ1I",
      "include_colab_link": true
    },
    "kernelspec": {
      "name": "python3",
      "display_name": "Python 3"
    },
    "language_info": {
      "name": "python"
    }
  },
  "cells": [
    {
      "cell_type": "markdown",
      "metadata": {
        "id": "view-in-github",
        "colab_type": "text"
      },
      "source": [
        "<a href=\"https://colab.research.google.com/github/PosgradoMNA/actividades-de-aprendizaje-Katty/blob/main/Actividad_de_semana_8_Python_for_Data_Analysis_modulo_5(IBM).ipynb\" target=\"_parent\"><img src=\"https://colab.research.google.com/assets/colab-badge.svg\" alt=\"Open In Colab\"/></a>"
      ]
    },
    {
      "cell_type": "markdown",
      "source": [
        "Nombre : Katherine Vanegas Salamanca\n",
        "\n",
        "Matricula : A01794113\n",
        "\n",
        "Materia: Ciencia de Datos\n",
        "\n",
        "Profesor:Maria de la Paz Rico / Roberto Antonio Guevara González\n",
        "\n",
        "Curso IBM Modulo 5 Data Analysis with Python"
      ],
      "metadata": {
        "id": "WJhb83YOnhWU"
      }
    },
    {
      "cell_type": "markdown",
      "source": [
        "##Model Evaluation and Refinement\n",
        "\n"
      ],
      "metadata": {
        "id": "CQKF9k58nndQ"
      }
    },
    {
      "cell_type": "code",
      "execution_count": null,
      "metadata": {
        "id": "x_B80F3EnXt0"
      },
      "outputs": [],
      "source": []
    }
  ]
}