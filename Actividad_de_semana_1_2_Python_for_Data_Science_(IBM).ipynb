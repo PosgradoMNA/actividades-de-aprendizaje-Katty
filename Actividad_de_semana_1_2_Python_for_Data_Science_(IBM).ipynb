{
  "nbformat": 4,
  "nbformat_minor": 0,
  "metadata": {
    "colab": {
      "provenance": [],
      "authorship_tag": "ABX9TyOXTcKBJ311NDq5xDcLtg1i",
      "include_colab_link": true
    },
    "kernelspec": {
      "name": "python3",
      "display_name": "Python 3"
    },
    "language_info": {
      "name": "python"
    }
  },
  "cells": [
    {
      "cell_type": "markdown",
      "metadata": {
        "id": "view-in-github",
        "colab_type": "text"
      },
      "source": [
        "<a href=\"https://colab.research.google.com/github/PosgradoMNA/actividades-de-aprendizaje-Katty/blob/main/Actividad_de_semana_1_2_Python_for_Data_Science_(IBM).ipynb\" target=\"_parent\"><img src=\"https://colab.research.google.com/assets/colab-badge.svg\" alt=\"Open In Colab\"/></a>"
      ]
    },
    {
      "cell_type": "code",
      "execution_count": null,
      "metadata": {
        "id": "4Yiw2n_Gpkmc"
      },
      "outputs": [],
      "source": [
        "### Desarrollo curso PHYTON"
      ]
    },
    {
      "cell_type": "markdown",
      "source": [
        "Capther 1"
      ],
      "metadata": {
        "id": "r6uSQVd4pr4H"
      }
    },
    {
      "cell_type": "code",
      "source": [
        "print(\"Hello Phyton 101\")\n",
        "#Hello Phyton 102"
      ],
      "metadata": {
        "colab": {
          "base_uri": "https://localhost:8080/"
        },
        "id": "z1NjvmD8rYhI",
        "outputId": "f5c847e8-c910-495a-d6b2-18bb641cccf1"
      },
      "execution_count": 2,
      "outputs": [
        {
          "output_type": "stream",
          "name": "stdout",
          "text": [
            "Hello Phyton 101\n"
          ]
        }
      ]
    },
    {
      "cell_type": "code",
      "source": [
        "type(\"Hello Phyton 102\")\n",
        "type(2)\n",
        "type(3.1416)"
      ],
      "metadata": {
        "colab": {
          "base_uri": "https://localhost:8080/"
        },
        "id": "0ikh4jr-r6nT",
        "outputId": "762a659c-9512-4f3f-b895-303839dba103"
      },
      "execution_count": 5,
      "outputs": [
        {
          "output_type": "execute_result",
          "data": {
            "text/plain": [
              "float"
            ]
          },
          "metadata": {},
          "execution_count": 5
        }
      ]
    },
    {
      "cell_type": "code",
      "source": [
        "int(3.1416)"
      ],
      "metadata": {
        "colab": {
          "base_uri": "https://localhost:8080/"
        },
        "id": "DA0u2KbWtI_6",
        "outputId": "5997a5d0-04af-450b-aa5f-fb74b2c9e15d"
      },
      "execution_count": 6,
      "outputs": [
        {
          "output_type": "execute_result",
          "data": {
            "text/plain": [
              "3"
            ]
          },
          "metadata": {},
          "execution_count": 6
        }
      ]
    },
    {
      "cell_type": "markdown",
      "source": [
        "#expression and variables"
      ],
      "metadata": {
        "id": "9UIQSFYwtUJU"
      }
    },
    {
      "cell_type": "code",
      "source": [
        "4+10*6\n",
        "10//3"
      ],
      "metadata": {
        "colab": {
          "base_uri": "https://localhost:8080/"
        },
        "id": "A_MOUAc7tpJz",
        "outputId": "d6a12268-10cd-4dd4-de8e-5645b0c69c0f"
      },
      "execution_count": 8,
      "outputs": [
        {
          "output_type": "execute_result",
          "data": {
            "text/plain": [
              "3"
            ]
          },
          "metadata": {},
          "execution_count": 8
        }
      ]
    },
    {
      "cell_type": "code",
      "source": [
        "total_tarifa = 4000\n",
        "total = total_tarifa * 20\n",
        "print(total)"
      ],
      "metadata": {
        "colab": {
          "base_uri": "https://localhost:8080/"
        },
        "id": "yurI68iqt7jJ",
        "outputId": "6c30d5cb-4e3a-407e-d4d0-5d9d1cecff51"
      },
      "execution_count": 11,
      "outputs": [
        {
          "output_type": "stream",
          "name": "stdout",
          "text": [
            "80000\n"
          ]
        }
      ]
    },
    {
      "cell_type": "code",
      "source": [
        "name = \"Katherine Vanegas\"\n",
        "name[0:5]"
      ],
      "metadata": {
        "colab": {
          "base_uri": "https://localhost:8080/",
          "height": 35
        },
        "id": "wksQ2C_nvHsW",
        "outputId": "d0051249-604c-470d-cc10-7770d901bdd7"
      },
      "execution_count": 13,
      "outputs": [
        {
          "output_type": "execute_result",
          "data": {
            "text/plain": [
              "'Kathe'"
            ],
            "application/vnd.google.colaboratory.intrinsic+json": {
              "type": "string"
            }
          },
          "metadata": {},
          "execution_count": 13
        }
      ]
    },
    {
      "cell_type": "code",
      "source": [
        "print(\"Mi hora es \\nlas 3 de la tarde\")\n",
        "print(\"Mi hora es \\tlas 3 de la tarde\")\n",
        "print(r\"Mi hora es \\\\ las 3 de la tarde\")"
      ],
      "metadata": {
        "colab": {
          "base_uri": "https://localhost:8080/"
        },
        "id": "joudtcvTvnnU",
        "outputId": "224d2c88-a4f3-449b-b25e-1594ecab3655"
      },
      "execution_count": 20,
      "outputs": [
        {
          "output_type": "stream",
          "name": "stdout",
          "text": [
            "Mi hora es \n",
            "las 3 de la tarde\n",
            "Mi hora es \tlas 3 de la tarde\n",
            "Mi hora es \\\\ las 3 de la tarde\n"
          ]
        }
      ]
    },
    {
      "cell_type": "markdown",
      "source": [
        "Chapter 2"
      ],
      "metadata": {
        "id": "X1aSejWwxFbV"
      }
    },
    {
      "cell_type": "markdown",
      "source": [
        "las listas van en []\n",
        "el diccionario va {}"
      ],
      "metadata": {
        "id": "5HePQyovryUY"
      }
    },
    {
      "cell_type": "code",
      "source": [
        "name1 = (\"Katherine\", 35, 2022)\n",
        "name1[2]\n",
        "name2 = name1+(\"enjoy\", 15)"
      ],
      "metadata": {
        "id": "ZDhpM3BBxIGx"
      },
      "execution_count": 36,
      "outputs": []
    },
    {
      "cell_type": "code",
      "source": [
        "L= [\"JOY\", 10, 21]\n",
        "L.extend([\"Katty\", 32])\n",
        "L.append(\"Lola\")\n",
        "del(L[1])\n",
        "print(L)"
      ],
      "metadata": {
        "colab": {
          "base_uri": "https://localhost:8080/"
        },
        "id": "_WXWd6U-z1_5",
        "outputId": "705c7e7c-cc59-49e2-d9c5-d2c7e11d679e"
      },
      "execution_count": 45,
      "outputs": [
        {
          "output_type": "stream",
          "name": "stdout",
          "text": [
            "['JOY', 21, 'Katty', 32, 'Lola']\n"
          ]
        }
      ]
    },
    {
      "cell_type": "markdown",
      "source": [
        "sets\n",
        "Convertir list to set"
      ],
      "metadata": {
        "id": "OxBJ1UXH1ww8"
      }
    },
    {
      "cell_type": "code",
      "source": [
        "hobbie_list= [\"run\",\"play\", \"eat\", \"read\"]\n",
        "set1= set(hobbie_list)\n",
        "set1.add(\"sleep\")\n",
        "set1.remove(\"eat\")\n",
        "\"Who\" in set1\n"
      ],
      "metadata": {
        "colab": {
          "base_uri": "https://localhost:8080/"
        },
        "id": "ZT0uP-H7Re5m",
        "outputId": "011b2ca2-0819-461b-dc16-458c4caff754"
      },
      "execution_count": 6,
      "outputs": [
        {
          "output_type": "execute_result",
          "data": {
            "text/plain": [
              "False"
            ]
          },
          "metadata": {},
          "execution_count": 6
        }
      ]
    },
    {
      "cell_type": "markdown",
      "source": [
        "Para definir interseccion de conjuntos se usa **&**\n",
        "Para unir dos conjuntos se usa **union**\n",
        "Diccionarios\n",
        "DICT.keys\n",
        "DICT.values\n"
      ],
      "metadata": {
        "id": "yry4Cal3Thqw"
      }
    },
    {
      "cell_type": "markdown",
      "source": [
        "Chapter 3"
      ],
      "metadata": {
        "id": "s1j3fECPVubJ"
      }
    },
    {
      "cell_type": "markdown",
      "source": [
        "Conditions and Branching"
      ],
      "metadata": {
        "id": "eAgHfHdCV-Xe"
      }
    },
    {
      "cell_type": "code",
      "source": [
        "age= 20\n",
        "if age > 18:\n",
        "  print (\"Puede ingresar\")\n",
        "else:\n",
        "  print (\"No puede ingresar\")"
      ],
      "metadata": {
        "colab": {
          "base_uri": "https://localhost:8080/"
        },
        "id": "eW-uV4elV0C1",
        "outputId": "fbb080d4-5cab-4f03-d200-483e47c7c93a"
      },
      "execution_count": 16,
      "outputs": [
        {
          "output_type": "stream",
          "name": "stdout",
          "text": [
            "Puede ingresar\n"
          ]
        }
      ]
    },
    {
      "cell_type": "markdown",
      "source": [
        "ELIF"
      ],
      "metadata": {
        "id": "rtlXbVQ8X2QG"
      }
    },
    {
      "cell_type": "code",
      "source": [
        "age= 18\n",
        "if age > 18:\n",
        "  print (\"Puede ingresar\")\n",
        "elif age == 18:\n",
        "  print (\"Pink Floyd\")\n",
        "print (\"Siga\")"
      ],
      "metadata": {
        "colab": {
          "base_uri": "https://localhost:8080/"
        },
        "id": "9D5ODK43X4Ap",
        "outputId": "bcd937f6-ba44-4623-b40f-a2de22ec5fd9"
      },
      "execution_count": 20,
      "outputs": [
        {
          "output_type": "stream",
          "name": "stdout",
          "text": [
            "Pink Floyd\n",
            "Siga\n"
          ]
        }
      ]
    },
    {
      "cell_type": "code",
      "source": [
        "colores =[\"rojo\", \"verde\", \"azul\", \"amarillo\", \"negro\"]\n",
        "\n",
        "for i in range(0,5):\n",
        "  colores[i]= \"blanco\"\n",
        "print (colores)"
      ],
      "metadata": {
        "colab": {
          "base_uri": "https://localhost:8080/"
        },
        "id": "PWWDZJ0faXOr",
        "outputId": "74ee26a5-c53e-4066-fcbd-55f1db7b8e9b"
      },
      "execution_count": 29,
      "outputs": [
        {
          "output_type": "stream",
          "name": "stdout",
          "text": [
            "['blanco', 'blanco', 'blanco', 'blanco', 'blanco']\n"
          ]
        }
      ]
    },
    {
      "cell_type": "markdown",
      "source": [
        "Funciones"
      ],
      "metadata": {
        "id": "yW2ATC1XcWQn"
      }
    },
    {
      "cell_type": "markdown",
      "source": [
        "len = longitud\n",
        "sum = suma elementos\n",
        "sorted (xxx)= ordenar lista\n",
        "xx.sort"
      ],
      "metadata": {
        "id": "gwg_U-x-dDzi"
      }
    },
    {
      "cell_type": "code",
      "source": [
        "def add1(a):\n",
        "  b = a+1\n",
        "  return b\n",
        "\n",
        "add1 (5)\n"
      ],
      "metadata": {
        "colab": {
          "base_uri": "https://localhost:8080/"
        },
        "id": "zH7B7a0rnkMn",
        "outputId": "a9c49c2c-2c25-4e76-d70c-ca036329beb1"
      },
      "execution_count": 34,
      "outputs": [
        {
          "output_type": "execute_result",
          "data": {
            "text/plain": [
              "6"
            ]
          },
          "metadata": {},
          "execution_count": 34
        }
      ]
    },
    {
      "cell_type": "code",
      "source": [
        "def prueba1(a, b):\n",
        "  c = a + b\n",
        "  print(\"la suma de\", a, \"mas\", b, \"es\", c)\n",
        "  return c\n",
        "\n",
        "prueba1(3,5)"
      ],
      "metadata": {
        "colab": {
          "base_uri": "https://localhost:8080/"
        },
        "id": "luDeD0TKqFQa",
        "outputId": "d65775db-2bf6-4bf7-d16f-7db587776d45"
      },
      "execution_count": 42,
      "outputs": [
        {
          "output_type": "stream",
          "name": "stdout",
          "text": [
            "la suma de 3 mas 5 es 8\n"
          ]
        },
        {
          "output_type": "execute_result",
          "data": {
            "text/plain": [
              "8"
            ]
          },
          "metadata": {},
          "execution_count": 42
        }
      ]
    },
    {
      "cell_type": "markdown",
      "source": [
        "crear clases de objetos\n",
        "class circle(object):\n",
        "\n",
        "  def _init_ (self, color, radius):\n",
        "  self.color = color;\n",
        "  self.radius = radius;"
      ],
      "metadata": {
        "id": "hyhPjuTEsgpM"
      }
    }
  ]
}