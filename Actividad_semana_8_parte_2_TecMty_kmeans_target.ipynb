{
  "nbformat": 4,
  "nbformat_minor": 0,
  "metadata": {
    "colab": {
      "provenance": [],
      "include_colab_link": true
    },
    "kernelspec": {
      "name": "python3",
      "display_name": "Python 3"
    },
    "language_info": {
      "name": "python"
    }
  },
  "cells": [
    {
      "cell_type": "markdown",
      "metadata": {
        "id": "view-in-github",
        "colab_type": "text"
      },
      "source": [
        "<a href=\"https://colab.research.google.com/github/PosgradoMNA/actividades-de-aprendizaje-Katty/blob/main/Actividad_semana_8_parte_2_TecMty_kmeans_target.ipynb\" target=\"_parent\"><img src=\"https://colab.research.google.com/assets/colab-badge.svg\" alt=\"Open In Colab\"/></a>"
      ]
    },
    {
      "cell_type": "markdown",
      "source": [
        "Nombres : Katherine Vanegas Salamanca\n",
        "\n",
        "Matricula : A01794113\n",
        "\n",
        "Materia: Ciencia de Datos\n",
        "\n",
        "Profesor: Maria de la Paz Rico / Roberto Antonio Guevara González\n",
        "\n",
        "Actividad: Actividad Semanal -- 8"
      ],
      "metadata": {
        "id": "UUj6uWh4hLhS"
      }
    },
    {
      "cell_type": "markdown",
      "source": [
        "Este notebook se basa en información de target\n",
        "![imagen.png](https://www.america-retail.com/static//2020/12/target01.jpg)\n",
        "\n",
        "\n",
        "Ahora imagina que somos parte del equipo de data science de la empresa Target, una de las tiendas con mayor presencia en Estados Unidos. El departamento de logistica acude a nosotros para saber donde le conviene poner sus almacenes, para que se optimice el gasto de gasolina, los tiempos de entrega de los productos y se disminuyan costos. Para ello, nos pasan los datos de latitud y longitud de cada una de las tiendas.\n",
        "\n",
        "https://www.kaggle.com/datasets/saejinmahlauheinert/target-store-locations?select=target-locations.csv\n",
        "\n",
        "Si quieres saber un poco más de graficas geográficas consulta el siguiente notebook\n",
        "https://colab.research.google.com/github/QuantEcon/quantecon-notebooks-datascience/blob/master/applications/maps.ipynb#scrollTo=uo2oPtSCeAOz"
      ],
      "metadata": {
        "id": "6mUW5QNwhz5T"
      }
    },
    {
      "cell_type": "code",
      "source": [
        "! pip install qeds fiona geopandas xgboost gensim folium pyLDAvis descartes"
      ],
      "metadata": {
        "colab": {
          "base_uri": "https://localhost:8080/"
        },
        "id": "YwkfEqinwESD",
        "outputId": "c7c4876f-754d-4fb0-f724-a76d2e463a12"
      },
      "execution_count": 1,
      "outputs": [
        {
          "output_type": "stream",
          "name": "stdout",
          "text": [
            "Looking in indexes: https://pypi.org/simple, https://us-python.pkg.dev/colab-wheels/public/simple/\n",
            "Requirement already satisfied: qeds in /usr/local/lib/python3.7/dist-packages (0.7.0)\n",
            "Requirement already satisfied: fiona in /usr/local/lib/python3.7/dist-packages (1.8.22)\n",
            "Requirement already satisfied: geopandas in /usr/local/lib/python3.7/dist-packages (0.10.2)\n",
            "Requirement already satisfied: xgboost in /usr/local/lib/python3.7/dist-packages (0.90)\n",
            "Requirement already satisfied: gensim in /usr/local/lib/python3.7/dist-packages (3.6.0)\n",
            "Requirement already satisfied: folium in /usr/local/lib/python3.7/dist-packages (0.12.1.post1)\n",
            "Requirement already satisfied: pyLDAvis in /usr/local/lib/python3.7/dist-packages (3.3.1)\n",
            "Requirement already satisfied: descartes in /usr/local/lib/python3.7/dist-packages (1.1.0)\n",
            "Requirement already satisfied: seaborn in /usr/local/lib/python3.7/dist-packages (from qeds) (0.11.2)\n",
            "Requirement already satisfied: statsmodels in /usr/local/lib/python3.7/dist-packages (from qeds) (0.12.2)\n",
            "Requirement already satisfied: numpy in /usr/local/lib/python3.7/dist-packages (from qeds) (1.21.6)\n",
            "Requirement already satisfied: matplotlib in /usr/local/lib/python3.7/dist-packages (from qeds) (3.2.2)\n",
            "Requirement already satisfied: plotly in /usr/local/lib/python3.7/dist-packages (from qeds) (5.5.0)\n",
            "Requirement already satisfied: scikit-learn in /usr/local/lib/python3.7/dist-packages (from qeds) (1.0.2)\n",
            "Requirement already satisfied: pandas-datareader in /usr/local/lib/python3.7/dist-packages (from qeds) (0.9.0)\n",
            "Requirement already satisfied: scipy in /usr/local/lib/python3.7/dist-packages (from qeds) (1.7.3)\n",
            "Requirement already satisfied: quantecon in /usr/local/lib/python3.7/dist-packages (from qeds) (0.5.3)\n",
            "Requirement already satisfied: openpyxl in /usr/local/lib/python3.7/dist-packages (from qeds) (3.0.10)\n",
            "Requirement already satisfied: pandas in /usr/local/lib/python3.7/dist-packages (from qeds) (1.3.5)\n",
            "Requirement already satisfied: quandl in /usr/local/lib/python3.7/dist-packages (from qeds) (3.7.0)\n",
            "Requirement already satisfied: pyarrow in /usr/local/lib/python3.7/dist-packages (from qeds) (6.0.1)\n",
            "Requirement already satisfied: requests in /usr/local/lib/python3.7/dist-packages (from qeds) (2.23.0)\n",
            "Requirement already satisfied: six>=1.7 in /usr/local/lib/python3.7/dist-packages (from fiona) (1.15.0)\n",
            "Requirement already satisfied: setuptools in /usr/local/lib/python3.7/dist-packages (from fiona) (57.4.0)\n",
            "Requirement already satisfied: munch in /usr/local/lib/python3.7/dist-packages (from fiona) (2.5.0)\n",
            "Requirement already satisfied: click>=4.0 in /usr/local/lib/python3.7/dist-packages (from fiona) (7.1.2)\n",
            "Requirement already satisfied: cligj>=0.5 in /usr/local/lib/python3.7/dist-packages (from fiona) (0.7.2)\n",
            "Requirement already satisfied: attrs>=17 in /usr/local/lib/python3.7/dist-packages (from fiona) (22.1.0)\n",
            "Requirement already satisfied: certifi in /usr/local/lib/python3.7/dist-packages (from fiona) (2022.9.24)\n",
            "Requirement already satisfied: click-plugins>=1.0 in /usr/local/lib/python3.7/dist-packages (from fiona) (1.1.1)\n",
            "Requirement already satisfied: shapely>=1.6 in /usr/local/lib/python3.7/dist-packages (from geopandas) (1.8.5.post1)\n",
            "Requirement already satisfied: pyproj>=2.2.0 in /usr/local/lib/python3.7/dist-packages (from geopandas) (3.2.1)\n",
            "Requirement already satisfied: python-dateutil>=2.7.3 in /usr/local/lib/python3.7/dist-packages (from pandas->qeds) (2.8.2)\n",
            "Requirement already satisfied: pytz>=2017.3 in /usr/local/lib/python3.7/dist-packages (from pandas->qeds) (2022.6)\n",
            "Requirement already satisfied: smart-open>=1.2.1 in /usr/local/lib/python3.7/dist-packages (from gensim) (5.2.1)\n",
            "Requirement already satisfied: jinja2>=2.9 in /usr/local/lib/python3.7/dist-packages (from folium) (2.11.3)\n",
            "Requirement already satisfied: branca>=0.3.0 in /usr/local/lib/python3.7/dist-packages (from folium) (0.5.0)\n",
            "Requirement already satisfied: MarkupSafe>=0.23 in /usr/local/lib/python3.7/dist-packages (from jinja2>=2.9->folium) (2.0.1)\n",
            "Requirement already satisfied: sklearn in /usr/local/lib/python3.7/dist-packages (from pyLDAvis) (0.0.post1)\n",
            "Requirement already satisfied: numexpr in /usr/local/lib/python3.7/dist-packages (from pyLDAvis) (2.8.4)\n",
            "Requirement already satisfied: joblib in /usr/local/lib/python3.7/dist-packages (from pyLDAvis) (1.2.0)\n",
            "Requirement already satisfied: funcy in /usr/local/lib/python3.7/dist-packages (from pyLDAvis) (1.17)\n",
            "Requirement already satisfied: future in /usr/local/lib/python3.7/dist-packages (from pyLDAvis) (0.16.0)\n",
            "Requirement already satisfied: pyparsing!=2.0.4,!=2.1.2,!=2.1.6,>=2.0.1 in /usr/local/lib/python3.7/dist-packages (from matplotlib->qeds) (3.0.9)\n",
            "Requirement already satisfied: cycler>=0.10 in /usr/local/lib/python3.7/dist-packages (from matplotlib->qeds) (0.11.0)\n",
            "Requirement already satisfied: kiwisolver>=1.0.1 in /usr/local/lib/python3.7/dist-packages (from matplotlib->qeds) (1.4.4)\n",
            "Requirement already satisfied: typing-extensions in /usr/local/lib/python3.7/dist-packages (from kiwisolver>=1.0.1->matplotlib->qeds) (4.1.1)\n",
            "Requirement already satisfied: et-xmlfile in /usr/local/lib/python3.7/dist-packages (from openpyxl->qeds) (1.1.0)\n",
            "Requirement already satisfied: lxml in /usr/local/lib/python3.7/dist-packages (from pandas-datareader->qeds) (4.9.1)\n",
            "Requirement already satisfied: idna<3,>=2.5 in /usr/local/lib/python3.7/dist-packages (from requests->qeds) (2.10)\n",
            "Requirement already satisfied: urllib3!=1.25.0,!=1.25.1,<1.26,>=1.21.1 in /usr/local/lib/python3.7/dist-packages (from requests->qeds) (1.24.3)\n",
            "Requirement already satisfied: chardet<4,>=3.0.2 in /usr/local/lib/python3.7/dist-packages (from requests->qeds) (3.0.4)\n",
            "Requirement already satisfied: tenacity>=6.2.0 in /usr/local/lib/python3.7/dist-packages (from plotly->qeds) (8.1.0)\n",
            "Requirement already satisfied: more-itertools in /usr/local/lib/python3.7/dist-packages (from quandl->qeds) (9.0.0)\n",
            "Requirement already satisfied: inflection>=0.3.1 in /usr/local/lib/python3.7/dist-packages (from quandl->qeds) (0.5.1)\n",
            "Requirement already satisfied: sympy in /usr/local/lib/python3.7/dist-packages (from quantecon->qeds) (1.7.1)\n",
            "Requirement already satisfied: numba in /usr/local/lib/python3.7/dist-packages (from quantecon->qeds) (0.56.4)\n",
            "Requirement already satisfied: llvmlite<0.40,>=0.39.0dev0 in /usr/local/lib/python3.7/dist-packages (from numba->quantecon->qeds) (0.39.1)\n",
            "Requirement already satisfied: importlib-metadata in /usr/local/lib/python3.7/dist-packages (from numba->quantecon->qeds) (4.13.0)\n",
            "Requirement already satisfied: zipp>=0.5 in /usr/local/lib/python3.7/dist-packages (from importlib-metadata->numba->quantecon->qeds) (3.10.0)\n",
            "Requirement already satisfied: threadpoolctl>=2.0.0 in /usr/local/lib/python3.7/dist-packages (from scikit-learn->qeds) (3.1.0)\n",
            "Requirement already satisfied: patsy>=0.5 in /usr/local/lib/python3.7/dist-packages (from statsmodels->qeds) (0.5.3)\n",
            "Requirement already satisfied: mpmath>=0.19 in /usr/local/lib/python3.7/dist-packages (from sympy->quantecon->qeds) (1.2.1)\n"
          ]
        }
      ]
    },
    {
      "cell_type": "code",
      "source": [
        "import pandas as pd\n",
        "import numpy as np\n",
        "from tqdm import tqdm\n",
        "%matplotlib inline\n",
        "import numpy as np\n",
        "import matplotlib.pyplot as plt\n",
        "import geopandas"
      ],
      "metadata": {
        "id": "WBpdGjbquQii"
      },
      "execution_count": 2,
      "outputs": []
    },
    {
      "cell_type": "markdown",
      "source": [
        "Importa la base de datos"
      ],
      "metadata": {
        "id": "KNTIoZlGvPum"
      }
    },
    {
      "cell_type": "code",
      "source": [
        "url=\"https://raw.githubusercontent.com/marypazrf/bdd/main/target-locations.csv\"\n",
        "df=pd.read_csv(url)"
      ],
      "metadata": {
        "id": "PAJWHRVN781V"
      },
      "execution_count": 3,
      "outputs": []
    },
    {
      "cell_type": "markdown",
      "source": [
        "Exploremos los datos."
      ],
      "metadata": {
        "id": "sH4hvPAYvUGY"
      }
    },
    {
      "cell_type": "code",
      "source": [
        "\n",
        "df.head()\n"
      ],
      "metadata": {
        "colab": {
          "base_uri": "https://localhost:8080/",
          "height": 206
        },
        "id": "DuzNp7KseyBg",
        "outputId": "3f3c4aa1-9e51-4780-b279-c43e75d3a34f"
      },
      "execution_count": 4,
      "outputs": [
        {
          "output_type": "execute_result",
          "data": {
            "text/plain": [
              "        name   latitude  longitude  \\\n",
              "0  Alabaster  33.224225 -86.804174   \n",
              "1   Bessemer  33.334550 -86.989778   \n",
              "2     Daphne  30.602875 -87.895932   \n",
              "3    Decatur  34.560148 -86.971559   \n",
              "4     Dothan  31.266061 -85.446422   \n",
              "\n",
              "                                             address         phone  \\\n",
              "0        250 S Colonial Dr, Alabaster, AL 35007-4657  205-564-2608   \n",
              "1       4889 Promenade Pkwy, Bessemer, AL 35022-7305  205-565-3760   \n",
              "2          1698 US Highway 98, Daphne, AL 36526-4252  251-621-3540   \n",
              "3  1235 Point Mallard Pkwy SE, Decatur, AL 35601-...  256-898-3036   \n",
              "4         4601 Montgomery Hwy, Dothan, AL 36303-1522  334-340-1112   \n",
              "\n",
              "                                    website  \n",
              "0  https://www.target.com/sl/alabaster/2276  \n",
              "1   https://www.target.com/sl/bessemer/2375  \n",
              "2     https://www.target.com/sl/daphne/1274  \n",
              "3    https://www.target.com/sl/decatur/2084  \n",
              "4     https://www.target.com/sl/dothan/1468  "
            ],
            "text/html": [
              "\n",
              "  <div id=\"df-4aac067f-7c57-4cf7-819e-29db4b625081\">\n",
              "    <div class=\"colab-df-container\">\n",
              "      <div>\n",
              "<style scoped>\n",
              "    .dataframe tbody tr th:only-of-type {\n",
              "        vertical-align: middle;\n",
              "    }\n",
              "\n",
              "    .dataframe tbody tr th {\n",
              "        vertical-align: top;\n",
              "    }\n",
              "\n",
              "    .dataframe thead th {\n",
              "        text-align: right;\n",
              "    }\n",
              "</style>\n",
              "<table border=\"1\" class=\"dataframe\">\n",
              "  <thead>\n",
              "    <tr style=\"text-align: right;\">\n",
              "      <th></th>\n",
              "      <th>name</th>\n",
              "      <th>latitude</th>\n",
              "      <th>longitude</th>\n",
              "      <th>address</th>\n",
              "      <th>phone</th>\n",
              "      <th>website</th>\n",
              "    </tr>\n",
              "  </thead>\n",
              "  <tbody>\n",
              "    <tr>\n",
              "      <th>0</th>\n",
              "      <td>Alabaster</td>\n",
              "      <td>33.224225</td>\n",
              "      <td>-86.804174</td>\n",
              "      <td>250 S Colonial Dr, Alabaster, AL 35007-4657</td>\n",
              "      <td>205-564-2608</td>\n",
              "      <td>https://www.target.com/sl/alabaster/2276</td>\n",
              "    </tr>\n",
              "    <tr>\n",
              "      <th>1</th>\n",
              "      <td>Bessemer</td>\n",
              "      <td>33.334550</td>\n",
              "      <td>-86.989778</td>\n",
              "      <td>4889 Promenade Pkwy, Bessemer, AL 35022-7305</td>\n",
              "      <td>205-565-3760</td>\n",
              "      <td>https://www.target.com/sl/bessemer/2375</td>\n",
              "    </tr>\n",
              "    <tr>\n",
              "      <th>2</th>\n",
              "      <td>Daphne</td>\n",
              "      <td>30.602875</td>\n",
              "      <td>-87.895932</td>\n",
              "      <td>1698 US Highway 98, Daphne, AL 36526-4252</td>\n",
              "      <td>251-621-3540</td>\n",
              "      <td>https://www.target.com/sl/daphne/1274</td>\n",
              "    </tr>\n",
              "    <tr>\n",
              "      <th>3</th>\n",
              "      <td>Decatur</td>\n",
              "      <td>34.560148</td>\n",
              "      <td>-86.971559</td>\n",
              "      <td>1235 Point Mallard Pkwy SE, Decatur, AL 35601-...</td>\n",
              "      <td>256-898-3036</td>\n",
              "      <td>https://www.target.com/sl/decatur/2084</td>\n",
              "    </tr>\n",
              "    <tr>\n",
              "      <th>4</th>\n",
              "      <td>Dothan</td>\n",
              "      <td>31.266061</td>\n",
              "      <td>-85.446422</td>\n",
              "      <td>4601 Montgomery Hwy, Dothan, AL 36303-1522</td>\n",
              "      <td>334-340-1112</td>\n",
              "      <td>https://www.target.com/sl/dothan/1468</td>\n",
              "    </tr>\n",
              "  </tbody>\n",
              "</table>\n",
              "</div>\n",
              "      <button class=\"colab-df-convert\" onclick=\"convertToInteractive('df-4aac067f-7c57-4cf7-819e-29db4b625081')\"\n",
              "              title=\"Convert this dataframe to an interactive table.\"\n",
              "              style=\"display:none;\">\n",
              "        \n",
              "  <svg xmlns=\"http://www.w3.org/2000/svg\" height=\"24px\"viewBox=\"0 0 24 24\"\n",
              "       width=\"24px\">\n",
              "    <path d=\"M0 0h24v24H0V0z\" fill=\"none\"/>\n",
              "    <path d=\"M18.56 5.44l.94 2.06.94-2.06 2.06-.94-2.06-.94-.94-2.06-.94 2.06-2.06.94zm-11 1L8.5 8.5l.94-2.06 2.06-.94-2.06-.94L8.5 2.5l-.94 2.06-2.06.94zm10 10l.94 2.06.94-2.06 2.06-.94-2.06-.94-.94-2.06-.94 2.06-2.06.94z\"/><path d=\"M17.41 7.96l-1.37-1.37c-.4-.4-.92-.59-1.43-.59-.52 0-1.04.2-1.43.59L10.3 9.45l-7.72 7.72c-.78.78-.78 2.05 0 2.83L4 21.41c.39.39.9.59 1.41.59.51 0 1.02-.2 1.41-.59l7.78-7.78 2.81-2.81c.8-.78.8-2.07 0-2.86zM5.41 20L4 18.59l7.72-7.72 1.47 1.35L5.41 20z\"/>\n",
              "  </svg>\n",
              "      </button>\n",
              "      \n",
              "  <style>\n",
              "    .colab-df-container {\n",
              "      display:flex;\n",
              "      flex-wrap:wrap;\n",
              "      gap: 12px;\n",
              "    }\n",
              "\n",
              "    .colab-df-convert {\n",
              "      background-color: #E8F0FE;\n",
              "      border: none;\n",
              "      border-radius: 50%;\n",
              "      cursor: pointer;\n",
              "      display: none;\n",
              "      fill: #1967D2;\n",
              "      height: 32px;\n",
              "      padding: 0 0 0 0;\n",
              "      width: 32px;\n",
              "    }\n",
              "\n",
              "    .colab-df-convert:hover {\n",
              "      background-color: #E2EBFA;\n",
              "      box-shadow: 0px 1px 2px rgba(60, 64, 67, 0.3), 0px 1px 3px 1px rgba(60, 64, 67, 0.15);\n",
              "      fill: #174EA6;\n",
              "    }\n",
              "\n",
              "    [theme=dark] .colab-df-convert {\n",
              "      background-color: #3B4455;\n",
              "      fill: #D2E3FC;\n",
              "    }\n",
              "\n",
              "    [theme=dark] .colab-df-convert:hover {\n",
              "      background-color: #434B5C;\n",
              "      box-shadow: 0px 1px 3px 1px rgba(0, 0, 0, 0.15);\n",
              "      filter: drop-shadow(0px 1px 2px rgba(0, 0, 0, 0.3));\n",
              "      fill: #FFFFFF;\n",
              "    }\n",
              "  </style>\n",
              "\n",
              "      <script>\n",
              "        const buttonEl =\n",
              "          document.querySelector('#df-4aac067f-7c57-4cf7-819e-29db4b625081 button.colab-df-convert');\n",
              "        buttonEl.style.display =\n",
              "          google.colab.kernel.accessAllowed ? 'block' : 'none';\n",
              "\n",
              "        async function convertToInteractive(key) {\n",
              "          const element = document.querySelector('#df-4aac067f-7c57-4cf7-819e-29db4b625081');\n",
              "          const dataTable =\n",
              "            await google.colab.kernel.invokeFunction('convertToInteractive',\n",
              "                                                     [key], {});\n",
              "          if (!dataTable) return;\n",
              "\n",
              "          const docLinkHtml = 'Like what you see? Visit the ' +\n",
              "            '<a target=\"_blank\" href=https://colab.research.google.com/notebooks/data_table.ipynb>data table notebook</a>'\n",
              "            + ' to learn more about interactive tables.';\n",
              "          element.innerHTML = '';\n",
              "          dataTable['output_type'] = 'display_data';\n",
              "          await google.colab.output.renderOutput(dataTable, element);\n",
              "          const docLink = document.createElement('div');\n",
              "          docLink.innerHTML = docLinkHtml;\n",
              "          element.appendChild(docLink);\n",
              "        }\n",
              "      </script>\n",
              "    </div>\n",
              "  </div>\n",
              "  "
            ]
          },
          "metadata": {},
          "execution_count": 4
        }
      ]
    },
    {
      "cell_type": "code",
      "source": [
        "df.info()"
      ],
      "metadata": {
        "colab": {
          "base_uri": "https://localhost:8080/"
        },
        "id": "MxbhdLkavl7Q",
        "outputId": "2cb3ceda-d81c-47f1-a2a6-0656a449fa8d"
      },
      "execution_count": 5,
      "outputs": [
        {
          "output_type": "stream",
          "name": "stdout",
          "text": [
            "<class 'pandas.core.frame.DataFrame'>\n",
            "RangeIndex: 1839 entries, 0 to 1838\n",
            "Data columns (total 6 columns):\n",
            " #   Column     Non-Null Count  Dtype  \n",
            "---  ------     --------------  -----  \n",
            " 0   name       1839 non-null   object \n",
            " 1   latitude   1839 non-null   float64\n",
            " 2   longitude  1839 non-null   float64\n",
            " 3   address    1839 non-null   object \n",
            " 4   phone      1839 non-null   object \n",
            " 5   website    1839 non-null   object \n",
            "dtypes: float64(2), object(4)\n",
            "memory usage: 86.3+ KB\n"
          ]
        }
      ]
    },
    {
      "cell_type": "markdown",
      "source": [
        "**Definición de Latitud y Longitud**\n",
        "\n",
        "**Latitud** Es la distancia en grados, minutos y segundos que hay con respecto al paralelo principal, que es el ecuador (0º). La latitud puede ser norte y sur.\n",
        "\n",
        "**Longitud**: Es la distancia en grados, minutos y segundos que hay con respecto al meridiano principal, que es el meridiano de Greenwich (0º).La longitud puede ser este y oeste."
      ],
      "metadata": {
        "id": "cpfqKT4qxAZz"
      }
    },
    {
      "cell_type": "code",
      "source": [
        "latlong=df[[\"latitude\",\"longitude\"]]"
      ],
      "metadata": {
        "id": "oPzX3DGju0As"
      },
      "execution_count": 6,
      "outputs": []
    },
    {
      "cell_type": "code",
      "source": [],
      "metadata": {
        "id": "n4QKgxn4e6V0"
      },
      "execution_count": 6,
      "outputs": []
    },
    {
      "cell_type": "markdown",
      "source": [
        "¡Visualizemos los datos!, para empezar a notar algún patron. \n",
        "\n",
        "A simple vista pudieramos pensar que tenemos algunos datos atípicos u outliers, pero .... no es así, simplemente esta grafica no nos está dando toda la información."
      ],
      "metadata": {
        "id": "gMk6UVE2e67y"
      }
    },
    {
      "cell_type": "code",
      "source": [
        "#extrae los datos interesantes\n",
        "latlong.plot.scatter( \"longitude\",\"latitude\")"
      ],
      "metadata": {
        "colab": {
          "base_uri": "https://localhost:8080/",
          "height": 296
        },
        "id": "-QZRqKiDfj2J",
        "outputId": "5f0f2677-8cb5-436b-e6f4-f3fad1f4a66e"
      },
      "execution_count": 7,
      "outputs": [
        {
          "output_type": "execute_result",
          "data": {
            "text/plain": [
              "<matplotlib.axes._subplots.AxesSubplot at 0x7fd871a56c50>"
            ]
          },
          "metadata": {},
          "execution_count": 7
        },
        {
          "output_type": "display_data",
          "data": {
            "text/plain": [
              "<Figure size 432x288 with 1 Axes>"
            ],
            "image/png": "[encoded data removed]"
          },
          "metadata": {
            "needs_background": "light"
          }
        }
      ]
    },
    {
      "cell_type": "code",
      "source": [
        "latlong.describe()"
      ],
      "metadata": {
        "colab": {
          "base_uri": "https://localhost:8080/",
          "height": 300
        },
        "id": "O6b3QguyyjM_",
        "outputId": "ea846e69-cfe8-4dd7-fbf5-64f0992f74bb"
      },
      "execution_count": 8,
      "outputs": [
        {
          "output_type": "execute_result",
          "data": {
            "text/plain": [
              "          latitude    longitude\n",
              "count  1839.000000  1839.000000\n",
              "mean     37.791238   -91.986881\n",
              "std       5.272299    16.108046\n",
              "min      19.647855  -159.376962\n",
              "25%      33.882605   -98.268828\n",
              "50%      38.955432   -87.746346\n",
              "75%      41.658341   -80.084833\n",
              "max      61.577919   -68.742331"
            ],
            "text/html": [
              "\n",
              "  <div id=\"df-570518aa-d2c7-4327-b25a-80f2615ffe11\">\n",
              "    <div class=\"colab-df-container\">\n",
              "      <div>\n",
              "<style scoped>\n",
              "    .dataframe tbody tr th:only-of-type {\n",
              "        vertical-align: middle;\n",
              "    }\n",
              "\n",
              "    .dataframe tbody tr th {\n",
              "        vertical-align: top;\n",
              "    }\n",
              "\n",
              "    .dataframe thead th {\n",
              "        text-align: right;\n",
              "    }\n",
              "</style>\n",
              "<table border=\"1\" class=\"dataframe\">\n",
              "  <thead>\n",
              "    <tr style=\"text-align: right;\">\n",
              "      <th></th>\n",
              "      <th>latitude</th>\n",
              "      <th>longitude</th>\n",
              "    </tr>\n",
              "  </thead>\n",
              "  <tbody>\n",
              "    <tr>\n",
              "      <th>count</th>\n",
              "      <td>1839.000000</td>\n",
              "      <td>1839.000000</td>\n",
              "    </tr>\n",
              "    <tr>\n",
              "      <th>mean</th>\n",
              "      <td>37.791238</td>\n",
              "      <td>-91.986881</td>\n",
              "    </tr>\n",
              "    <tr>\n",
              "      <th>std</th>\n",
              "      <td>5.272299</td>\n",
              "      <td>16.108046</td>\n",
              "    </tr>\n",
              "    <tr>\n",
              "      <th>min</th>\n",
              "      <td>19.647855</td>\n",
              "      <td>-159.376962</td>\n",
              "    </tr>\n",
              "    <tr>\n",
              "      <th>25%</th>\n",
              "      <td>33.882605</td>\n",
              "      <td>-98.268828</td>\n",
              "    </tr>\n",
              "    <tr>\n",
              "      <th>50%</th>\n",
              "      <td>38.955432</td>\n",
              "      <td>-87.746346</td>\n",
              "    </tr>\n",
              "    <tr>\n",
              "      <th>75%</th>\n",
              "      <td>41.658341</td>\n",
              "      <td>-80.084833</td>\n",
              "    </tr>\n",
              "    <tr>\n",
              "      <th>max</th>\n",
              "      <td>61.577919</td>\n",
              "      <td>-68.742331</td>\n",
              "    </tr>\n",
              "  </tbody>\n",
              "</table>\n",
              "</div>\n",
              "      <button class=\"colab-df-convert\" onclick=\"convertToInteractive('df-570518aa-d2c7-4327-b25a-80f2615ffe11')\"\n",
              "              title=\"Convert this dataframe to an interactive table.\"\n",
              "              style=\"display:none;\">\n",
              "        \n",
              "  <svg xmlns=\"http://www.w3.org/2000/svg\" height=\"24px\"viewBox=\"0 0 24 24\"\n",
              "       width=\"24px\">\n",
              "    <path d=\"M0 0h24v24H0V0z\" fill=\"none\"/>\n",
              "    <path d=\"M18.56 5.44l.94 2.06.94-2.06 2.06-.94-2.06-.94-.94-2.06-.94 2.06-2.06.94zm-11 1L8.5 8.5l.94-2.06 2.06-.94-2.06-.94L8.5 2.5l-.94 2.06-2.06.94zm10 10l.94 2.06.94-2.06 2.06-.94-2.06-.94-.94-2.06-.94 2.06-2.06.94z\"/><path d=\"M17.41 7.96l-1.37-1.37c-.4-.4-.92-.59-1.43-.59-.52 0-1.04.2-1.43.59L10.3 9.45l-7.72 7.72c-.78.78-.78 2.05 0 2.83L4 21.41c.39.39.9.59 1.41.59.51 0 1.02-.2 1.41-.59l7.78-7.78 2.81-2.81c.8-.78.8-2.07 0-2.86zM5.41 20L4 18.59l7.72-7.72 1.47 1.35L5.41 20z\"/>\n",
              "  </svg>\n",
              "      </button>\n",
              "      \n",
              "  <style>\n",
              "    .colab-df-container {\n",
              "      display:flex;\n",
              "      flex-wrap:wrap;\n",
              "      gap: 12px;\n",
              "    }\n",
              "\n",
              "    .colab-df-convert {\n",
              "      background-color: #E8F0FE;\n",
              "      border: none;\n",
              "      border-radius: 50%;\n",
              "      cursor: pointer;\n",
              "      display: none;\n",
              "      fill: #1967D2;\n",
              "      height: 32px;\n",
              "      padding: 0 0 0 0;\n",
              "      width: 32px;\n",
              "    }\n",
              "\n",
              "    .colab-df-convert:hover {\n",
              "      background-color: #E2EBFA;\n",
              "      box-shadow: 0px 1px 2px rgba(60, 64, 67, 0.3), 0px 1px 3px 1px rgba(60, 64, 67, 0.15);\n",
              "      fill: #174EA6;\n",
              "    }\n",
              "\n",
              "    [theme=dark] .colab-df-convert {\n",
              "      background-color: #3B4455;\n",
              "      fill: #D2E3FC;\n",
              "    }\n",
              "\n",
              "    [theme=dark] .colab-df-convert:hover {\n",
              "      background-color: #434B5C;\n",
              "      box-shadow: 0px 1px 3px 1px rgba(0, 0, 0, 0.15);\n",
              "      filter: drop-shadow(0px 1px 2px rgba(0, 0, 0, 0.3));\n",
              "      fill: #FFFFFF;\n",
              "    }\n",
              "  </style>\n",
              "\n",
              "      <script>\n",
              "        const buttonEl =\n",
              "          document.querySelector('#df-570518aa-d2c7-4327-b25a-80f2615ffe11 button.colab-df-convert');\n",
              "        buttonEl.style.display =\n",
              "          google.colab.kernel.accessAllowed ? 'block' : 'none';\n",
              "\n",
              "        async function convertToInteractive(key) {\n",
              "          const element = document.querySelector('#df-570518aa-d2c7-4327-b25a-80f2615ffe11');\n",
              "          const dataTable =\n",
              "            await google.colab.kernel.invokeFunction('convertToInteractive',\n",
              "                                                     [key], {});\n",
              "          if (!dataTable) return;\n",
              "\n",
              "          const docLinkHtml = 'Like what you see? Visit the ' +\n",
              "            '<a target=\"_blank\" href=https://colab.research.google.com/notebooks/data_table.ipynb>data table notebook</a>'\n",
              "            + ' to learn more about interactive tables.';\n",
              "          element.innerHTML = '';\n",
              "          dataTable['output_type'] = 'display_data';\n",
              "          await google.colab.output.renderOutput(dataTable, element);\n",
              "          const docLink = document.createElement('div');\n",
              "          docLink.innerHTML = docLinkHtml;\n",
              "          element.appendChild(docLink);\n",
              "        }\n",
              "      </script>\n",
              "    </div>\n",
              "  </div>\n",
              "  "
            ]
          },
          "metadata": {},
          "execution_count": 8
        }
      ]
    },
    {
      "cell_type": "markdown",
      "source": [
        "Para entender un poco más, nos auxiliaremos de una librería para graficar datos geográficos. Esto nos ayudara a tener un mejor entendimiento de ellos.\n",
        "\n",
        "\n"
      ],
      "metadata": {
        "id": "hkPMyAyIDunz"
      }
    },
    {
      "cell_type": "code",
      "source": [
        "import geopandas as gpd\n",
        "import matplotlib.pyplot as plt\n",
        "import pandas as pd\n",
        "\n",
        "from shapely.geometry import Point\n",
        "\n",
        "%matplotlib inline\n",
        "# activate plot theme\n",
        "import qeds\n",
        "qeds.themes.mpl_style();"
      ],
      "metadata": {
        "id": "_blyM4esyJTu"
      },
      "execution_count": 9,
      "outputs": []
    },
    {
      "cell_type": "code",
      "source": [
        "df[\"Coordinates\"] = list(zip(df.longitude, df.latitude))\n",
        "df[\"Coordinates\"] = df[\"Coordinates\"].apply(Point)\n",
        "df.head()"
      ],
      "metadata": {
        "colab": {
          "base_uri": "https://localhost:8080/",
          "height": 337
        },
        "id": "01i0TciKfPco",
        "outputId": "77cd3bf1-53d7-4c34-e88d-3c190c7f5480"
      },
      "execution_count": 10,
      "outputs": [
        {
          "output_type": "execute_result",
          "data": {
            "text/plain": [
              "        name   latitude  longitude  \\\n",
              "0  Alabaster  33.224225 -86.804174   \n",
              "1   Bessemer  33.334550 -86.989778   \n",
              "2     Daphne  30.602875 -87.895932   \n",
              "3    Decatur  34.560148 -86.971559   \n",
              "4     Dothan  31.266061 -85.446422   \n",
              "\n",
              "                                             address         phone  \\\n",
              "0        250 S Colonial Dr, Alabaster, AL 35007-4657  205-564-2608   \n",
              "1       4889 Promenade Pkwy, Bessemer, AL 35022-7305  205-565-3760   \n",
              "2          1698 US Highway 98, Daphne, AL 36526-4252  251-621-3540   \n",
              "3  1235 Point Mallard Pkwy SE, Decatur, AL 35601-...  256-898-3036   \n",
              "4         4601 Montgomery Hwy, Dothan, AL 36303-1522  334-340-1112   \n",
              "\n",
              "                                    website  \\\n",
              "0  https://www.target.com/sl/alabaster/2276   \n",
              "1   https://www.target.com/sl/bessemer/2375   \n",
              "2     https://www.target.com/sl/daphne/1274   \n",
              "3    https://www.target.com/sl/decatur/2084   \n",
              "4     https://www.target.com/sl/dothan/1468   \n",
              "\n",
              "                             Coordinates  \n",
              "0  POINT (-86.80417369999999 33.2242254)  \n",
              "1  POINT (-86.98977789999999 33.3345501)  \n",
              "2  POINT (-87.89593169999999 30.6028747)  \n",
              "3         POINT (-86.9715595 34.5601477)  \n",
              "4         POINT (-85.4464222 31.2660613)  "
            ],
            "text/html": [
              "\n",
              "  <div id=\"df-db513247-400f-4274-ba60-d3d4f904681b\">\n",
              "    <div class=\"colab-df-container\">\n",
              "      <div>\n",
              "<style scoped>\n",
              "    .dataframe tbody tr th:only-of-type {\n",
              "        vertical-align: middle;\n",
              "    }\n",
              "\n",
              "    .dataframe tbody tr th {\n",
              "        vertical-align: top;\n",
              "    }\n",
              "\n",
              "    .dataframe thead th {\n",
              "        text-align: right;\n",
              "    }\n",
              "</style>\n",
              "<table border=\"1\" class=\"dataframe\">\n",
              "  <thead>\n",
              "    <tr style=\"text-align: right;\">\n",
              "      <th></th>\n",
              "      <th>name</th>\n",
              "      <th>latitude</th>\n",
              "      <th>longitude</th>\n",
              "      <th>address</th>\n",
              "      <th>phone</th>\n",
              "      <th>website</th>\n",
              "      <th>Coordinates</th>\n",
              "    </tr>\n",
              "  </thead>\n",
              "  <tbody>\n",
              "    <tr>\n",
              "      <th>0</th>\n",
              "      <td>Alabaster</td>\n",
              "      <td>33.224225</td>\n",
              "      <td>-86.804174</td>\n",
              "      <td>250 S Colonial Dr, Alabaster, AL 35007-4657</td>\n",
              "      <td>205-564-2608</td>\n",
              "      <td>https://www.target.com/sl/alabaster/2276</td>\n",
              "      <td>POINT (-86.80417369999999 33.2242254)</td>\n",
              "    </tr>\n",
              "    <tr>\n",
              "      <th>1</th>\n",
              "      <td>Bessemer</td>\n",
              "      <td>33.334550</td>\n",
              "      <td>-86.989778</td>\n",
              "      <td>4889 Promenade Pkwy, Bessemer, AL 35022-7305</td>\n",
              "      <td>205-565-3760</td>\n",
              "      <td>https://www.target.com/sl/bessemer/2375</td>\n",
              "      <td>POINT (-86.98977789999999 33.3345501)</td>\n",
              "    </tr>\n",
              "    <tr>\n",
              "      <th>2</th>\n",
              "      <td>Daphne</td>\n",
              "      <td>30.602875</td>\n",
              "      <td>-87.895932</td>\n",
              "      <td>1698 US Highway 98, Daphne, AL 36526-4252</td>\n",
              "      <td>251-621-3540</td>\n",
              "      <td>https://www.target.com/sl/daphne/1274</td>\n",
              "      <td>POINT (-87.89593169999999 30.6028747)</td>\n",
              "    </tr>\n",
              "    <tr>\n",
              "      <th>3</th>\n",
              "      <td>Decatur</td>\n",
              "      <td>34.560148</td>\n",
              "      <td>-86.971559</td>\n",
              "      <td>1235 Point Mallard Pkwy SE, Decatur, AL 35601-...</td>\n",
              "      <td>256-898-3036</td>\n",
              "      <td>https://www.target.com/sl/decatur/2084</td>\n",
              "      <td>POINT (-86.9715595 34.5601477)</td>\n",
              "    </tr>\n",
              "    <tr>\n",
              "      <th>4</th>\n",
              "      <td>Dothan</td>\n",
              "      <td>31.266061</td>\n",
              "      <td>-85.446422</td>\n",
              "      <td>4601 Montgomery Hwy, Dothan, AL 36303-1522</td>\n",
              "      <td>334-340-1112</td>\n",
              "      <td>https://www.target.com/sl/dothan/1468</td>\n",
              "      <td>POINT (-85.4464222 31.2660613)</td>\n",
              "    </tr>\n",
              "  </tbody>\n",
              "</table>\n",
              "</div>\n",
              "      <button class=\"colab-df-convert\" onclick=\"convertToInteractive('df-db513247-400f-4274-ba60-d3d4f904681b')\"\n",
              "              title=\"Convert this dataframe to an interactive table.\"\n",
              "              style=\"display:none;\">\n",
              "        \n",
              "  <svg xmlns=\"http://www.w3.org/2000/svg\" height=\"24px\"viewBox=\"0 0 24 24\"\n",
              "       width=\"24px\">\n",
              "    <path d=\"M0 0h24v24H0V0z\" fill=\"none\"/>\n",
              "    <path d=\"M18.56 5.44l.94 2.06.94-2.06 2.06-.94-2.06-.94-.94-2.06-.94 2.06-2.06.94zm-11 1L8.5 8.5l.94-2.06 2.06-.94-2.06-.94L8.5 2.5l-.94 2.06-2.06.94zm10 10l.94 2.06.94-2.06 2.06-.94-2.06-.94-.94-2.06-.94 2.06-2.06.94z\"/><path d=\"M17.41 7.96l-1.37-1.37c-.4-.4-.92-.59-1.43-.59-.52 0-1.04.2-1.43.59L10.3 9.45l-7.72 7.72c-.78.78-.78 2.05 0 2.83L4 21.41c.39.39.9.59 1.41.59.51 0 1.02-.2 1.41-.59l7.78-7.78 2.81-2.81c.8-.78.8-2.07 0-2.86zM5.41 20L4 18.59l7.72-7.72 1.47 1.35L5.41 20z\"/>\n",
              "  </svg>\n",
              "      </button>\n",
              "      \n",
              "  <style>\n",
              "    .colab-df-container {\n",
              "      display:flex;\n",
              "      flex-wrap:wrap;\n",
              "      gap: 12px;\n",
              "    }\n",
              "\n",
              "    .colab-df-convert {\n",
              "      background-color: #E8F0FE;\n",
              "      border: none;\n",
              "      border-radius: 50%;\n",
              "      cursor: pointer;\n",
              "      display: none;\n",
              "      fill: #1967D2;\n",
              "      height: 32px;\n",
              "      padding: 0 0 0 0;\n",
              "      width: 32px;\n",
              "    }\n",
              "\n",
              "    .colab-df-convert:hover {\n",
              "      background-color: #E2EBFA;\n",
              "      box-shadow: 0px 1px 2px rgba(60, 64, 67, 0.3), 0px 1px 3px 1px rgba(60, 64, 67, 0.15);\n",
              "      fill: #174EA6;\n",
              "    }\n",
              "\n",
              "    [theme=dark] .colab-df-convert {\n",
              "      background-color: #3B4455;\n",
              "      fill: #D2E3FC;\n",
              "    }\n",
              "\n",
              "    [theme=dark] .colab-df-convert:hover {\n",
              "      background-color: #434B5C;\n",
              "      box-shadow: 0px 1px 3px 1px rgba(0, 0, 0, 0.15);\n",
              "      filter: drop-shadow(0px 1px 2px rgba(0, 0, 0, 0.3));\n",
              "      fill: #FFFFFF;\n",
              "    }\n",
              "  </style>\n",
              "\n",
              "      <script>\n",
              "        const buttonEl =\n",
              "          document.querySelector('#df-db513247-400f-4274-ba60-d3d4f904681b button.colab-df-convert');\n",
              "        buttonEl.style.display =\n",
              "          google.colab.kernel.accessAllowed ? 'block' : 'none';\n",
              "\n",
              "        async function convertToInteractive(key) {\n",
              "          const element = document.querySelector('#df-db513247-400f-4274-ba60-d3d4f904681b');\n",
              "          const dataTable =\n",
              "            await google.colab.kernel.invokeFunction('convertToInteractive',\n",
              "                                                     [key], {});\n",
              "          if (!dataTable) return;\n",
              "\n",
              "          const docLinkHtml = 'Like what you see? Visit the ' +\n",
              "            '<a target=\"_blank\" href=https://colab.research.google.com/notebooks/data_table.ipynb>data table notebook</a>'\n",
              "            + ' to learn more about interactive tables.';\n",
              "          element.innerHTML = '';\n",
              "          dataTable['output_type'] = 'display_data';\n",
              "          await google.colab.output.renderOutput(dataTable, element);\n",
              "          const docLink = document.createElement('div');\n",
              "          docLink.innerHTML = docLinkHtml;\n",
              "          element.appendChild(docLink);\n",
              "        }\n",
              "      </script>\n",
              "    </div>\n",
              "  </div>\n",
              "  "
            ]
          },
          "metadata": {},
          "execution_count": 10
        }
      ]
    },
    {
      "cell_type": "code",
      "source": [
        "gdf = gpd.GeoDataFrame(df, geometry=\"Coordinates\")\n",
        "gdf.head()"
      ],
      "metadata": {
        "colab": {
          "base_uri": "https://localhost:8080/",
          "height": 250
        },
        "id": "SBTBrsvlfIU_",
        "outputId": "f26d657b-5fe3-43aa-f9b6-a108531f1cd0"
      },
      "execution_count": 11,
      "outputs": [
        {
          "output_type": "execute_result",
          "data": {
            "text/plain": [
              "        name   latitude  longitude  \\\n",
              "0  Alabaster  33.224225 -86.804174   \n",
              "1   Bessemer  33.334550 -86.989778   \n",
              "2     Daphne  30.602875 -87.895932   \n",
              "3    Decatur  34.560148 -86.971559   \n",
              "4     Dothan  31.266061 -85.446422   \n",
              "\n",
              "                                             address         phone  \\\n",
              "0        250 S Colonial Dr, Alabaster, AL 35007-4657  205-564-2608   \n",
              "1       4889 Promenade Pkwy, Bessemer, AL 35022-7305  205-565-3760   \n",
              "2          1698 US Highway 98, Daphne, AL 36526-4252  251-621-3540   \n",
              "3  1235 Point Mallard Pkwy SE, Decatur, AL 35601-...  256-898-3036   \n",
              "4         4601 Montgomery Hwy, Dothan, AL 36303-1522  334-340-1112   \n",
              "\n",
              "                                    website                 Coordinates  \n",
              "0  https://www.target.com/sl/alabaster/2276  POINT (-86.80417 33.22423)  \n",
              "1   https://www.target.com/sl/bessemer/2375  POINT (-86.98978 33.33455)  \n",
              "2     https://www.target.com/sl/daphne/1274  POINT (-87.89593 30.60287)  \n",
              "3    https://www.target.com/sl/decatur/2084  POINT (-86.97156 34.56015)  \n",
              "4     https://www.target.com/sl/dothan/1468  POINT (-85.44642 31.26606)  "
            ],
            "text/html": [
              "\n",
              "  <div id=\"df-bbdc7228-900d-412f-9c26-7cb8b4c17074\">\n",
              "    <div class=\"colab-df-container\">\n",
              "      <div>\n",
              "<style scoped>\n",
              "    .dataframe tbody tr th:only-of-type {\n",
              "        vertical-align: middle;\n",
              "    }\n",
              "\n",
              "    .dataframe tbody tr th {\n",
              "        vertical-align: top;\n",
              "    }\n",
              "\n",
              "    .dataframe thead th {\n",
              "        text-align: right;\n",
              "    }\n",
              "</style>\n",
              "<table border=\"1\" class=\"dataframe\">\n",
              "  <thead>\n",
              "    <tr style=\"text-align: right;\">\n",
              "      <th></th>\n",
              "      <th>name</th>\n",
              "      <th>latitude</th>\n",
              "      <th>longitude</th>\n",
              "      <th>address</th>\n",
              "      <th>phone</th>\n",
              "      <th>website</th>\n",
              "      <th>Coordinates</th>\n",
              "    </tr>\n",
              "  </thead>\n",
              "  <tbody>\n",
              "    <tr>\n",
              "      <th>0</th>\n",
              "      <td>Alabaster</td>\n",
              "      <td>33.224225</td>\n",
              "      <td>-86.804174</td>\n",
              "      <td>250 S Colonial Dr, Alabaster, AL 35007-4657</td>\n",
              "      <td>205-564-2608</td>\n",
              "      <td>https://www.target.com/sl/alabaster/2276</td>\n",
              "      <td>POINT (-86.80417 33.22423)</td>\n",
              "    </tr>\n",
              "    <tr>\n",
              "      <th>1</th>\n",
              "      <td>Bessemer</td>\n",
              "      <td>33.334550</td>\n",
              "      <td>-86.989778</td>\n",
              "      <td>4889 Promenade Pkwy, Bessemer, AL 35022-7305</td>\n",
              "      <td>205-565-3760</td>\n",
              "      <td>https://www.target.com/sl/bessemer/2375</td>\n",
              "      <td>POINT (-86.98978 33.33455)</td>\n",
              "    </tr>\n",
              "    <tr>\n",
              "      <th>2</th>\n",
              "      <td>Daphne</td>\n",
              "      <td>30.602875</td>\n",
              "      <td>-87.895932</td>\n",
              "      <td>1698 US Highway 98, Daphne, AL 36526-4252</td>\n",
              "      <td>251-621-3540</td>\n",
              "      <td>https://www.target.com/sl/daphne/1274</td>\n",
              "      <td>POINT (-87.89593 30.60287)</td>\n",
              "    </tr>\n",
              "    <tr>\n",
              "      <th>3</th>\n",
              "      <td>Decatur</td>\n",
              "      <td>34.560148</td>\n",
              "      <td>-86.971559</td>\n",
              "      <td>1235 Point Mallard Pkwy SE, Decatur, AL 35601-...</td>\n",
              "      <td>256-898-3036</td>\n",
              "      <td>https://www.target.com/sl/decatur/2084</td>\n",
              "      <td>POINT (-86.97156 34.56015)</td>\n",
              "    </tr>\n",
              "    <tr>\n",
              "      <th>4</th>\n",
              "      <td>Dothan</td>\n",
              "      <td>31.266061</td>\n",
              "      <td>-85.446422</td>\n",
              "      <td>4601 Montgomery Hwy, Dothan, AL 36303-1522</td>\n",
              "      <td>334-340-1112</td>\n",
              "      <td>https://www.target.com/sl/dothan/1468</td>\n",
              "      <td>POINT (-85.44642 31.26606)</td>\n",
              "    </tr>\n",
              "  </tbody>\n",
              "</table>\n",
              "</div>\n",
              "      <button class=\"colab-df-convert\" onclick=\"convertToInteractive('df-bbdc7228-900d-412f-9c26-7cb8b4c17074')\"\n",
              "              title=\"Convert this dataframe to an interactive table.\"\n",
              "              style=\"display:none;\">\n",
              "        \n",
              "  <svg xmlns=\"http://www.w3.org/2000/svg\" height=\"24px\"viewBox=\"0 0 24 24\"\n",
              "       width=\"24px\">\n",
              "    <path d=\"M0 0h24v24H0V0z\" fill=\"none\"/>\n",
              "    <path d=\"M18.56 5.44l.94 2.06.94-2.06 2.06-.94-2.06-.94-.94-2.06-.94 2.06-2.06.94zm-11 1L8.5 8.5l.94-2.06 2.06-.94-2.06-.94L8.5 2.5l-.94 2.06-2.06.94zm10 10l.94 2.06.94-2.06 2.06-.94-2.06-.94-.94-2.06-.94 2.06-2.06.94z\"/><path d=\"M17.41 7.96l-1.37-1.37c-.4-.4-.92-.59-1.43-.59-.52 0-1.04.2-1.43.59L10.3 9.45l-7.72 7.72c-.78.78-.78 2.05 0 2.83L4 21.41c.39.39.9.59 1.41.59.51 0 1.02-.2 1.41-.59l7.78-7.78 2.81-2.81c.8-.78.8-2.07 0-2.86zM5.41 20L4 18.59l7.72-7.72 1.47 1.35L5.41 20z\"/>\n",
              "  </svg>\n",
              "      </button>\n",
              "      \n",
              "  <style>\n",
              "    .colab-df-container {\n",
              "      display:flex;\n",
              "      flex-wrap:wrap;\n",
              "      gap: 12px;\n",
              "    }\n",
              "\n",
              "    .colab-df-convert {\n",
              "      background-color: #E8F0FE;\n",
              "      border: none;\n",
              "      border-radius: 50%;\n",
              "      cursor: pointer;\n",
              "      display: none;\n",
              "      fill: #1967D2;\n",
              "      height: 32px;\n",
              "      padding: 0 0 0 0;\n",
              "      width: 32px;\n",
              "    }\n",
              "\n",
              "    .colab-df-convert:hover {\n",
              "      background-color: #E2EBFA;\n",
              "      box-shadow: 0px 1px 2px rgba(60, 64, 67, 0.3), 0px 1px 3px 1px rgba(60, 64, 67, 0.15);\n",
              "      fill: #174EA6;\n",
              "    }\n",
              "\n",
              "    [theme=dark] .colab-df-convert {\n",
              "      background-color: #3B4455;\n",
              "      fill: #D2E3FC;\n",
              "    }\n",
              "\n",
              "    [theme=dark] .colab-df-convert:hover {\n",
              "      background-color: #434B5C;\n",
              "      box-shadow: 0px 1px 3px 1px rgba(0, 0, 0, 0.15);\n",
              "      filter: drop-shadow(0px 1px 2px rgba(0, 0, 0, 0.3));\n",
              "      fill: #FFFFFF;\n",
              "    }\n",
              "  </style>\n",
              "\n",
              "      <script>\n",
              "        const buttonEl =\n",
              "          document.querySelector('#df-bbdc7228-900d-412f-9c26-7cb8b4c17074 button.colab-df-convert');\n",
              "        buttonEl.style.display =\n",
              "          google.colab.kernel.accessAllowed ? 'block' : 'none';\n",
              "\n",
              "        async function convertToInteractive(key) {\n",
              "          const element = document.querySelector('#df-bbdc7228-900d-412f-9c26-7cb8b4c17074');\n",
              "          const dataTable =\n",
              "            await google.colab.kernel.invokeFunction('convertToInteractive',\n",
              "                                                     [key], {});\n",
              "          if (!dataTable) return;\n",
              "\n",
              "          const docLinkHtml = 'Like what you see? Visit the ' +\n",
              "            '<a target=\"_blank\" href=https://colab.research.google.com/notebooks/data_table.ipynb>data table notebook</a>'\n",
              "            + ' to learn more about interactive tables.';\n",
              "          element.innerHTML = '';\n",
              "          dataTable['output_type'] = 'display_data';\n",
              "          await google.colab.output.renderOutput(dataTable, element);\n",
              "          const docLink = document.createElement('div');\n",
              "          docLink.innerHTML = docLinkHtml;\n",
              "          element.appendChild(docLink);\n",
              "        }\n",
              "      </script>\n",
              "    </div>\n",
              "  </div>\n",
              "  "
            ]
          },
          "metadata": {},
          "execution_count": 11
        }
      ]
    },
    {
      "cell_type": "code",
      "source": [
        "#mapa\n",
        "\n",
        "world = gpd.read_file(gpd.datasets.get_path(\"naturalearth_lowres\"))\n",
        "world = world.set_index(\"iso_a3\")\n",
        "\n",
        "world.head()"
      ],
      "metadata": {
        "colab": {
          "base_uri": "https://localhost:8080/",
          "height": 237
        },
        "id": "wB6Jkrvbfef1",
        "outputId": "e19fcfc2-39cf-4738-b96d-36a859a8a1c3"
      },
      "execution_count": 12,
      "outputs": [
        {
          "output_type": "execute_result",
          "data": {
            "text/plain": [
              "          pop_est      continent                      name  gdp_md_est  \\\n",
              "iso_a3                                                                   \n",
              "FJI        920938        Oceania                      Fiji      8374.0   \n",
              "TZA      53950935         Africa                  Tanzania    150600.0   \n",
              "ESH        603253         Africa                 W. Sahara       906.5   \n",
              "CAN      35623680  North America                    Canada   1674000.0   \n",
              "USA     326625791  North America  United States of America  18560000.0   \n",
              "\n",
              "                                                 geometry  \n",
              "iso_a3                                                     \n",
              "FJI     MULTIPOLYGON (((180.00000 -16.06713, 180.00000...  \n",
              "TZA     POLYGON ((33.90371 -0.95000, 34.07262 -1.05982...  \n",
              "ESH     POLYGON ((-8.66559 27.65643, -8.66512 27.58948...  \n",
              "CAN     MULTIPOLYGON (((-122.84000 49.00000, -122.9742...  \n",
              "USA     MULTIPOLYGON (((-122.84000 49.00000, -120.0000...  "
            ],
            "text/html": [
              "\n",
              "  <div id=\"df-a740742c-8e93-470c-ab41-f39e56c62f31\">\n",
              "    <div class=\"colab-df-container\">\n",
              "      <div>\n",
              "<style scoped>\n",
              "    .dataframe tbody tr th:only-of-type {\n",
              "        vertical-align: middle;\n",
              "    }\n",
              "\n",
              "    .dataframe tbody tr th {\n",
              "        vertical-align: top;\n",
              "    }\n",
              "\n",
              "    .dataframe thead th {\n",
              "        text-align: right;\n",
              "    }\n",
              "</style>\n",
              "<table border=\"1\" class=\"dataframe\">\n",
              "  <thead>\n",
              "    <tr style=\"text-align: right;\">\n",
              "      <th></th>\n",
              "      <th>pop_est</th>\n",
              "      <th>continent</th>\n",
              "      <th>name</th>\n",
              "      <th>gdp_md_est</th>\n",
              "      <th>geometry</th>\n",
              "    </tr>\n",
              "    <tr>\n",
              "      <th>iso_a3</th>\n",
              "      <th></th>\n",
              "      <th></th>\n",
              "      <th></th>\n",
              "      <th></th>\n",
              "      <th></th>\n",
              "    </tr>\n",
              "  </thead>\n",
              "  <tbody>\n",
              "    <tr>\n",
              "      <th>FJI</th>\n",
              "      <td>920938</td>\n",
              "      <td>Oceania</td>\n",
              "      <td>Fiji</td>\n",
              "      <td>8374.0</td>\n",
              "      <td>MULTIPOLYGON (((180.00000 -16.06713, 180.00000...</td>\n",
              "    </tr>\n",
              "    <tr>\n",
              "      <th>TZA</th>\n",
              "      <td>53950935</td>\n",
              "      <td>Africa</td>\n",
              "      <td>Tanzania</td>\n",
              "      <td>150600.0</td>\n",
              "      <td>POLYGON ((33.90371 -0.95000, 34.07262 -1.05982...</td>\n",
              "    </tr>\n",
              "    <tr>\n",
              "      <th>ESH</th>\n",
              "      <td>603253</td>\n",
              "      <td>Africa</td>\n",
              "      <td>W. Sahara</td>\n",
              "      <td>906.5</td>\n",
              "      <td>POLYGON ((-8.66559 27.65643, -8.66512 27.58948...</td>\n",
              "    </tr>\n",
              "    <tr>\n",
              "      <th>CAN</th>\n",
              "      <td>35623680</td>\n",
              "      <td>North America</td>\n",
              "      <td>Canada</td>\n",
              "      <td>1674000.0</td>\n",
              "      <td>MULTIPOLYGON (((-122.84000 49.00000, -122.9742...</td>\n",
              "    </tr>\n",
              "    <tr>\n",
              "      <th>USA</th>\n",
              "      <td>326625791</td>\n",
              "      <td>North America</td>\n",
              "      <td>United States of America</td>\n",
              "      <td>18560000.0</td>\n",
              "      <td>MULTIPOLYGON (((-122.84000 49.00000, -120.0000...</td>\n",
              "    </tr>\n",
              "  </tbody>\n",
              "</table>\n",
              "</div>\n",
              "      <button class=\"colab-df-convert\" onclick=\"convertToInteractive('df-a740742c-8e93-470c-ab41-f39e56c62f31')\"\n",
              "              title=\"Convert this dataframe to an interactive table.\"\n",
              "              style=\"display:none;\">\n",
              "        \n",
              "  <svg xmlns=\"http://www.w3.org/2000/svg\" height=\"24px\"viewBox=\"0 0 24 24\"\n",
              "       width=\"24px\">\n",
              "    <path d=\"M0 0h24v24H0V0z\" fill=\"none\"/>\n",
              "    <path d=\"M18.56 5.44l.94 2.06.94-2.06 2.06-.94-2.06-.94-.94-2.06-.94 2.06-2.06.94zm-11 1L8.5 8.5l.94-2.06 2.06-.94-2.06-.94L8.5 2.5l-.94 2.06-2.06.94zm10 10l.94 2.06.94-2.06 2.06-.94-2.06-.94-.94-2.06-.94 2.06-2.06.94z\"/><path d=\"M17.41 7.96l-1.37-1.37c-.4-.4-.92-.59-1.43-.59-.52 0-1.04.2-1.43.59L10.3 9.45l-7.72 7.72c-.78.78-.78 2.05 0 2.83L4 21.41c.39.39.9.59 1.41.59.51 0 1.02-.2 1.41-.59l7.78-7.78 2.81-2.81c.8-.78.8-2.07 0-2.86zM5.41 20L4 18.59l7.72-7.72 1.47 1.35L5.41 20z\"/>\n",
              "  </svg>\n",
              "      </button>\n",
              "      \n",
              "  <style>\n",
              "    .colab-df-container {\n",
              "      display:flex;\n",
              "      flex-wrap:wrap;\n",
              "      gap: 12px;\n",
              "    }\n",
              "\n",
              "    .colab-df-convert {\n",
              "      background-color: #E8F0FE;\n",
              "      border: none;\n",
              "      border-radius: 50%;\n",
              "      cursor: pointer;\n",
              "      display: none;\n",
              "      fill: #1967D2;\n",
              "      height: 32px;\n",
              "      padding: 0 0 0 0;\n",
              "      width: 32px;\n",
              "    }\n",
              "\n",
              "    .colab-df-convert:hover {\n",
              "      background-color: #E2EBFA;\n",
              "      box-shadow: 0px 1px 2px rgba(60, 64, 67, 0.3), 0px 1px 3px 1px rgba(60, 64, 67, 0.15);\n",
              "      fill: #174EA6;\n",
              "    }\n",
              "\n",
              "    [theme=dark] .colab-df-convert {\n",
              "      background-color: #3B4455;\n",
              "      fill: #D2E3FC;\n",
              "    }\n",
              "\n",
              "    [theme=dark] .colab-df-convert:hover {\n",
              "      background-color: #434B5C;\n",
              "      box-shadow: 0px 1px 3px 1px rgba(0, 0, 0, 0.15);\n",
              "      filter: drop-shadow(0px 1px 2px rgba(0, 0, 0, 0.3));\n",
              "      fill: #FFFFFF;\n",
              "    }\n",
              "  </style>\n",
              "\n",
              "      <script>\n",
              "        const buttonEl =\n",
              "          document.querySelector('#df-a740742c-8e93-470c-ab41-f39e56c62f31 button.colab-df-convert');\n",
              "        buttonEl.style.display =\n",
              "          google.colab.kernel.accessAllowed ? 'block' : 'none';\n",
              "\n",
              "        async function convertToInteractive(key) {\n",
              "          const element = document.querySelector('#df-a740742c-8e93-470c-ab41-f39e56c62f31');\n",
              "          const dataTable =\n",
              "            await google.colab.kernel.invokeFunction('convertToInteractive',\n",
              "                                                     [key], {});\n",
              "          if (!dataTable) return;\n",
              "\n",
              "          const docLinkHtml = 'Like what you see? Visit the ' +\n",
              "            '<a target=\"_blank\" href=https://colab.research.google.com/notebooks/data_table.ipynb>data table notebook</a>'\n",
              "            + ' to learn more about interactive tables.';\n",
              "          element.innerHTML = '';\n",
              "          dataTable['output_type'] = 'display_data';\n",
              "          await google.colab.output.renderOutput(dataTable, element);\n",
              "          const docLink = document.createElement('div');\n",
              "          docLink.innerHTML = docLinkHtml;\n",
              "          element.appendChild(docLink);\n",
              "        }\n",
              "      </script>\n",
              "    </div>\n",
              "  </div>\n",
              "  "
            ]
          },
          "metadata": {},
          "execution_count": 12
        }
      ]
    },
    {
      "cell_type": "code",
      "source": [
        "#graficar el mapa\n",
        "world.name.unique()"
      ],
      "metadata": {
        "colab": {
          "base_uri": "https://localhost:8080/"
        },
        "id": "0qkBCMSUflw_",
        "outputId": "795aaacd-6602-4dac-ac4d-c9280cd3ce09"
      },
      "execution_count": 13,
      "outputs": [
        {
          "output_type": "execute_result",
          "data": {
            "text/plain": [
              "array(['Fiji', 'Tanzania', 'W. Sahara', 'Canada',\n",
              "       'United States of America', 'Kazakhstan', 'Uzbekistan',\n",
              "       'Papua New Guinea', 'Indonesia', 'Argentina', 'Chile',\n",
              "       'Dem. Rep. Congo', 'Somalia', 'Kenya', 'Sudan', 'Chad', 'Haiti',\n",
              "       'Dominican Rep.', 'Russia', 'Bahamas', 'Falkland Is.', 'Norway',\n",
              "       'Greenland', 'Fr. S. Antarctic Lands', 'Timor-Leste',\n",
              "       'South Africa', 'Lesotho', 'Mexico', 'Uruguay', 'Brazil',\n",
              "       'Bolivia', 'Peru', 'Colombia', 'Panama', 'Costa Rica', 'Nicaragua',\n",
              "       'Honduras', 'El Salvador', 'Guatemala', 'Belize', 'Venezuela',\n",
              "       'Guyana', 'Suriname', 'France', 'Ecuador', 'Puerto Rico',\n",
              "       'Jamaica', 'Cuba', 'Zimbabwe', 'Botswana', 'Namibia', 'Senegal',\n",
              "       'Mali', 'Mauritania', 'Benin', 'Niger', 'Nigeria', 'Cameroon',\n",
              "       'Togo', 'Ghana', \"Côte d'Ivoire\", 'Guinea', 'Guinea-Bissau',\n",
              "       'Liberia', 'Sierra Leone', 'Burkina Faso', 'Central African Rep.',\n",
              "       'Congo', 'Gabon', 'Eq. Guinea', 'Zambia', 'Malawi', 'Mozambique',\n",
              "       'eSwatini', 'Angola', 'Burundi', 'Israel', 'Lebanon', 'Madagascar',\n",
              "       'Palestine', 'Gambia', 'Tunisia', 'Algeria', 'Jordan',\n",
              "       'United Arab Emirates', 'Qatar', 'Kuwait', 'Iraq', 'Oman',\n",
              "       'Vanuatu', 'Cambodia', 'Thailand', 'Laos', 'Myanmar', 'Vietnam',\n",
              "       'North Korea', 'South Korea', 'Mongolia', 'India', 'Bangladesh',\n",
              "       'Bhutan', 'Nepal', 'Pakistan', 'Afghanistan', 'Tajikistan',\n",
              "       'Kyrgyzstan', 'Turkmenistan', 'Iran', 'Syria', 'Armenia', 'Sweden',\n",
              "       'Belarus', 'Ukraine', 'Poland', 'Austria', 'Hungary', 'Moldova',\n",
              "       'Romania', 'Lithuania', 'Latvia', 'Estonia', 'Germany', 'Bulgaria',\n",
              "       'Greece', 'Turkey', 'Albania', 'Croatia', 'Switzerland',\n",
              "       'Luxembourg', 'Belgium', 'Netherlands', 'Portugal', 'Spain',\n",
              "       'Ireland', 'New Caledonia', 'Solomon Is.', 'New Zealand',\n",
              "       'Australia', 'Sri Lanka', 'China', 'Taiwan', 'Italy', 'Denmark',\n",
              "       'United Kingdom', 'Iceland', 'Azerbaijan', 'Georgia',\n",
              "       'Philippines', 'Malaysia', 'Brunei', 'Slovenia', 'Finland',\n",
              "       'Slovakia', 'Czechia', 'Eritrea', 'Japan', 'Paraguay', 'Yemen',\n",
              "       'Saudi Arabia', 'Antarctica', 'N. Cyprus', 'Cyprus', 'Morocco',\n",
              "       'Egypt', 'Libya', 'Ethiopia', 'Djibouti', 'Somaliland', 'Uganda',\n",
              "       'Rwanda', 'Bosnia and Herz.', 'Macedonia', 'Serbia', 'Montenegro',\n",
              "       'Kosovo', 'Trinidad and Tobago', 'S. Sudan'], dtype=object)"
            ]
          },
          "metadata": {},
          "execution_count": 13
        }
      ]
    },
    {
      "cell_type": "code",
      "source": [
        "fig, gax = plt.subplots(figsize=(10,10))\n",
        "\n",
        "# By only plotting rows in which the continent is 'South America' we only plot SA.\n",
        "world.query(\"name == 'United States of America'\").plot(ax=gax, edgecolor='black',color='white')\n",
        "\n",
        "# By the way, if you haven't read the book 'longitude' by Dava Sobel, you should...\n",
        "gax.set_xlabel('longitude')\n",
        "gax.set_ylabel('latitude')\n",
        "\n",
        "gax.spines['top'].set_visible(False)\n",
        "gax.spines['right'].set_visible(False)"
      ],
      "metadata": {
        "colab": {
          "base_uri": "https://localhost:8080/",
          "height": 476
        },
        "id": "swDogh7dfusl",
        "outputId": "5d2c474c-0a2e-461d-cb9a-35a8cea424fc"
      },
      "execution_count": 14,
      "outputs": [
        {
          "output_type": "display_data",
          "data": {
            "text/plain": [
              "<Figure size 720x720 with 1 Axes>"
            ],
            "image/png": "[encoded data removed]"
          },
          "metadata": {}
        }
      ]
    },
    {
      "cell_type": "code",
      "source": [
        "# Step 3: Plot the cities onto the map\n",
        "# We mostly use the code from before --- we still want the country borders plotted --- and we\n",
        "# add a command to plot the cities\n",
        "fig, gax = plt.subplots(figsize=(10,10))\n",
        "\n",
        "# By only plotting rows in which the continent is 'South America' we only plot, well,\n",
        "# South America.\n",
        "world.query(\"name == 'United States of America'\").plot(ax = gax, edgecolor='black', color='white')\n",
        "\n",
        "# This plot the cities. It's the same syntax, but we are plotting from a different GeoDataFrame.\n",
        "# I want the cities as pale red dots.\n",
        "gdf.plot(ax=gax, color='red', alpha = 0.5)\n",
        "\n",
        "gax.set_xlabel('longitude')\n",
        "gax.set_ylabel('latitude')\n",
        "gax.set_title('Target en Estados Unidos')\n",
        "\n",
        "gax.spines['top'].set_visible(False)\n",
        "gax.spines['right'].set_visible(False)\n",
        "\n",
        "plt.show()"
      ],
      "metadata": {
        "colab": {
          "base_uri": "https://localhost:8080/",
          "height": 381
        },
        "id": "OR0ydTOvf_Xp",
        "outputId": "1f3917dd-38b2-4a29-c01c-3771a3c7ecb9"
      },
      "execution_count": 15,
      "outputs": [
        {
          "output_type": "display_data",
          "data": {
            "text/plain": [
              "<Figure size 720x720 with 1 Axes>"
            ],
            "image/png": "[encoded data removed]"
          },
          "metadata": {}
        }
      ]
    },
    {
      "cell_type": "markdown",
      "source": [
        "¿qué tal ahora?, tiene mayor sentido verdad, entonces los datos lejanos no eran atípicos, de aquí la importancia de ver los datos con el tipo de gráfica correcta.\n",
        "\n",
        "Ahora sí, implementa K means a los datos de latitud y longitud :) y encuentra donde colocar los almacenes. \n",
        "\n",
        "Nota: si te llama la atención implementar alguna otra visualización con otra librería, lo puedes hacer, no hay restricciones."
      ],
      "metadata": {
        "id": "SMkonhsqfgSf"
      }
    },
    {
      "cell_type": "code",
      "source": [
        "from sklearn.cluster import KMeans\n",
        "\n",
        "X = latlong\n",
        "\n",
        "Nc = range(1, 20)\n",
        "kmeans = [KMeans(n_clusters=i) for i in Nc]\n",
        "kmeans\n",
        "score = [kmeans[i].fit(X).score(X) for i in range(len(kmeans))]\n",
        "score\n",
        "plt.plot(Nc,score)\n",
        "plt.xlabel('Number of Clusters')\n",
        "plt.ylabel('Score')\n",
        "plt.title('Elbow Curve')\n",
        "plt.show()"
      ],
      "metadata": {
        "id": "IfXq2ieSgD2e",
        "colab": {
          "base_uri": "https://localhost:8080/",
          "height": 319
        },
        "outputId": "eaa80bab-75ad-4c43-8d3f-1c21e868d5f9"
      },
      "execution_count": 16,
      "outputs": [
        {
          "output_type": "display_data",
          "data": {
            "text/plain": [
              "<Figure size 432x288 with 1 Axes>"
            ],
            "image/png": "[encoded data removed]"
          },
          "metadata": {}
        }
      ]
    },
    {
      "cell_type": "markdown",
      "source": [
        "Se utiliza el metodo de la curva elbow para determinar cuantos cluster serian optimos para la clasificacion, de acuerdo a esto un numero de K = 5 puede ser un buen valor"
      ],
      "metadata": {
        "id": "LGtv8n0jAYku"
      }
    },
    {
      "cell_type": "code",
      "source": [
        "kmeans = KMeans(n_clusters=5, n_init= 25).fit(X)\n",
        "centroids = kmeans.cluster_centers_\n",
        "print(centroids)"
      ],
      "metadata": {
        "colab": {
          "base_uri": "https://localhost:8080/"
        },
        "id": "uRISchWcAkw0",
        "outputId": "8835ccce-b972-4b74-cc84-9d08bd7cf774"
      },
      "execution_count": 17,
      "outputs": [
        {
          "output_type": "stream",
          "name": "stdout",
          "text": [
            "[[  40.34365502  -75.58507975]\n",
            " [  37.57977424 -119.17634307]\n",
            " [  34.42035677  -98.26633716]\n",
            " [  31.10391163  -82.93309211]\n",
            " [  41.7596358   -88.35497835]]\n"
          ]
        }
      ]
    },
    {
      "cell_type": "code",
      "source": [
        "labels = kmeans.predict(X)\n",
        "\n",
        "C = kmeans.cluster_centers_\n",
        "colores=['red','green','blue', 'purple','yellow']\n",
        "asignar=[]\n",
        "for i in labels:\n",
        "    asignar.append(colores[i])"
      ],
      "metadata": {
        "id": "rTsmK4LUBLdw"
      },
      "execution_count": 18,
      "outputs": []
    },
    {
      "cell_type": "code",
      "source": [
        "C"
      ],
      "metadata": {
        "colab": {
          "base_uri": "https://localhost:8080/"
        },
        "id": "HvIY7LuQeUpO",
        "outputId": "d9849faf-90f9-4271-9c2f-39dbc1e11ee3"
      },
      "execution_count": 19,
      "outputs": [
        {
          "output_type": "execute_result",
          "data": {
            "text/plain": [
              "array([[  40.34365502,  -75.58507975],\n",
              "       [  37.57977424, -119.17634307],\n",
              "       [  34.42035677,  -98.26633716],\n",
              "       [  31.10391163,  -82.93309211],\n",
              "       [  41.7596358 ,  -88.35497835]])"
            ]
          },
          "metadata": {},
          "execution_count": 19
        }
      ]
    },
    {
      "cell_type": "code",
      "source": [
        "fig, gax = plt.subplots(figsize=(10,15))\n",
        "\n",
        "world.query(\"name == 'United States of America'\").plot(ax = gax, edgecolor='black', color='white')\n",
        "\n",
        "gdf.plot(ax=gax, c=asignar, alpha = 0.5)\n",
        "#C.plot(ax=gax, marker='+', markersize=8, label='centroides')\n",
        "#plt.scatter(X, Y,  'b', markersize=8, label='centroides')\n",
        "#KC.plot(ax=gax, marker='+', c='black')\n",
        "gax.set_xlabel('longitude')\n",
        "gax.set_ylabel('latitude')\n",
        "gax.set_title('Target en Estados Unidos')\n",
        "plt.show()"
      ],
      "metadata": {
        "colab": {
          "base_uri": "https://localhost:8080/",
          "height": 381
        },
        "id": "EszaPNphBchJ",
        "outputId": "55f41688-172a-46f4-a456-f39582b682d7"
      },
      "execution_count": 20,
      "outputs": [
        {
          "output_type": "display_data",
          "data": {
            "text/plain": [
              "<Figure size 720x1080 with 1 Axes>"
            ],
            "image/png": "[encoded data removed]"
          },
          "metadata": {}
        }
      ]
    },
    {
      "cell_type": "code",
      "source": [
        "copy = pd.DataFrame()\n",
        "copy['latitude']=df['latitude'].values\n",
        "copy['longitude']=df['longitude'].values\n",
        "copy['label'] = labels;\n",
        "cantidadGrupo =  pd.DataFrame()\n",
        "cantidadGrupo['color']=colores\n",
        "cantidadGrupo['cantidad']=copy.groupby('label').size()\n",
        "cantidadGrupo"
      ],
      "metadata": {
        "colab": {
          "base_uri": "https://localhost:8080/",
          "height": 206
        },
        "id": "0O1W1_KUJS3T",
        "outputId": "f6eca944-bc3a-4d8e-a59f-8f2cb0bd9dd0"
      },
      "execution_count": 21,
      "outputs": [
        {
          "output_type": "execute_result",
          "data": {
            "text/plain": [
              "    color  cantidad\n",
              "0     red       480\n",
              "1   green       368\n",
              "2    blue       296\n",
              "3  purple       273\n",
              "4  yellow       422"
            ],
            "text/html": [
              "\n",
              "  <div id=\"df-06dd2eca-22d6-443c-8c48-aea4a3eaa1d9\">\n",
              "    <div class=\"colab-df-container\">\n",
              "      <div>\n",
              "<style scoped>\n",
              "    .dataframe tbody tr th:only-of-type {\n",
              "        vertical-align: middle;\n",
              "    }\n",
              "\n",
              "    .dataframe tbody tr th {\n",
              "        vertical-align: top;\n",
              "    }\n",
              "\n",
              "    .dataframe thead th {\n",
              "        text-align: right;\n",
              "    }\n",
              "</style>\n",
              "<table border=\"1\" class=\"dataframe\">\n",
              "  <thead>\n",
              "    <tr style=\"text-align: right;\">\n",
              "      <th></th>\n",
              "      <th>color</th>\n",
              "      <th>cantidad</th>\n",
              "    </tr>\n",
              "  </thead>\n",
              "  <tbody>\n",
              "    <tr>\n",
              "      <th>0</th>\n",
              "      <td>red</td>\n",
              "      <td>480</td>\n",
              "    </tr>\n",
              "    <tr>\n",
              "      <th>1</th>\n",
              "      <td>green</td>\n",
              "      <td>368</td>\n",
              "    </tr>\n",
              "    <tr>\n",
              "      <th>2</th>\n",
              "      <td>blue</td>\n",
              "      <td>296</td>\n",
              "    </tr>\n",
              "    <tr>\n",
              "      <th>3</th>\n",
              "      <td>purple</td>\n",
              "      <td>273</td>\n",
              "    </tr>\n",
              "    <tr>\n",
              "      <th>4</th>\n",
              "      <td>yellow</td>\n",
              "      <td>422</td>\n",
              "    </tr>\n",
              "  </tbody>\n",
              "</table>\n",
              "</div>\n",
              "      <button class=\"colab-df-convert\" onclick=\"convertToInteractive('df-06dd2eca-22d6-443c-8c48-aea4a3eaa1d9')\"\n",
              "              title=\"Convert this dataframe to an interactive table.\"\n",
              "              style=\"display:none;\">\n",
              "        \n",
              "  <svg xmlns=\"http://www.w3.org/2000/svg\" height=\"24px\"viewBox=\"0 0 24 24\"\n",
              "       width=\"24px\">\n",
              "    <path d=\"M0 0h24v24H0V0z\" fill=\"none\"/>\n",
              "    <path d=\"M18.56 5.44l.94 2.06.94-2.06 2.06-.94-2.06-.94-.94-2.06-.94 2.06-2.06.94zm-11 1L8.5 8.5l.94-2.06 2.06-.94-2.06-.94L8.5 2.5l-.94 2.06-2.06.94zm10 10l.94 2.06.94-2.06 2.06-.94-2.06-.94-.94-2.06-.94 2.06-2.06.94z\"/><path d=\"M17.41 7.96l-1.37-1.37c-.4-.4-.92-.59-1.43-.59-.52 0-1.04.2-1.43.59L10.3 9.45l-7.72 7.72c-.78.78-.78 2.05 0 2.83L4 21.41c.39.39.9.59 1.41.59.51 0 1.02-.2 1.41-.59l7.78-7.78 2.81-2.81c.8-.78.8-2.07 0-2.86zM5.41 20L4 18.59l7.72-7.72 1.47 1.35L5.41 20z\"/>\n",
              "  </svg>\n",
              "      </button>\n",
              "      \n",
              "  <style>\n",
              "    .colab-df-container {\n",
              "      display:flex;\n",
              "      flex-wrap:wrap;\n",
              "      gap: 12px;\n",
              "    }\n",
              "\n",
              "    .colab-df-convert {\n",
              "      background-color: #E8F0FE;\n",
              "      border: none;\n",
              "      border-radius: 50%;\n",
              "      cursor: pointer;\n",
              "      display: none;\n",
              "      fill: #1967D2;\n",
              "      height: 32px;\n",
              "      padding: 0 0 0 0;\n",
              "      width: 32px;\n",
              "    }\n",
              "\n",
              "    .colab-df-convert:hover {\n",
              "      background-color: #E2EBFA;\n",
              "      box-shadow: 0px 1px 2px rgba(60, 64, 67, 0.3), 0px 1px 3px 1px rgba(60, 64, 67, 0.15);\n",
              "      fill: #174EA6;\n",
              "    }\n",
              "\n",
              "    [theme=dark] .colab-df-convert {\n",
              "      background-color: #3B4455;\n",
              "      fill: #D2E3FC;\n",
              "    }\n",
              "\n",
              "    [theme=dark] .colab-df-convert:hover {\n",
              "      background-color: #434B5C;\n",
              "      box-shadow: 0px 1px 3px 1px rgba(0, 0, 0, 0.15);\n",
              "      filter: drop-shadow(0px 1px 2px rgba(0, 0, 0, 0.3));\n",
              "      fill: #FFFFFF;\n",
              "    }\n",
              "  </style>\n",
              "\n",
              "      <script>\n",
              "        const buttonEl =\n",
              "          document.querySelector('#df-06dd2eca-22d6-443c-8c48-aea4a3eaa1d9 button.colab-df-convert');\n",
              "        buttonEl.style.display =\n",
              "          google.colab.kernel.accessAllowed ? 'block' : 'none';\n",
              "\n",
              "        async function convertToInteractive(key) {\n",
              "          const element = document.querySelector('#df-06dd2eca-22d6-443c-8c48-aea4a3eaa1d9');\n",
              "          const dataTable =\n",
              "            await google.colab.kernel.invokeFunction('convertToInteractive',\n",
              "                                                     [key], {});\n",
              "          if (!dataTable) return;\n",
              "\n",
              "          const docLinkHtml = 'Like what you see? Visit the ' +\n",
              "            '<a target=\"_blank\" href=https://colab.research.google.com/notebooks/data_table.ipynb>data table notebook</a>'\n",
              "            + ' to learn more about interactive tables.';\n",
              "          element.innerHTML = '';\n",
              "          dataTable['output_type'] = 'display_data';\n",
              "          await google.colab.output.renderOutput(dataTable, element);\n",
              "          const docLink = document.createElement('div');\n",
              "          docLink.innerHTML = docLinkHtml;\n",
              "          element.appendChild(docLink);\n",
              "        }\n",
              "      </script>\n",
              "    </div>\n",
              "  </div>\n",
              "  "
            ]
          },
          "metadata": {},
          "execution_count": 21
        }
      ]
    },
    {
      "cell_type": "markdown",
      "source": [
        "Encuentra el numero ideal de almacenes, justifica tu respuesta:\n",
        "\n",
        "Encuentra las latitudes y longitudes de los almacenes, ¿qué ciudad es?, ¿a cuantas tiendas va surtir?, ¿sabes a que distancia estará?\n",
        "¿Cómo elegiste el número de almacenes?, justifica tu respuesta técnicamente.\n",
        "\n",
        "Se grafica la ubicación de las 1838 tiendas en Estados Unidos, donde se nota claramente la concentracion de tiendas en la zona oriental del pais, al occidente por el contrario hay pocas tiendas. Luego de correr el modelo k-means se encuentra un número optimo de cluster = 5 de acuerdo al metodo de elbow el cual encuentra el número optimo donde la suma de las distancias cuadradas estan lo mas cerca posible al centro del respectivo cluster, se adjunta el numero de tiendas que estaria atendiendo cada cluster\n",
        "\n",
        "La distancia entre cada tienda y el cluster respectivo se puede hallar con la suma de la distancia cuadradas de cada almacen vs el centroide de su cluster\n",
        "\n",
        "\n",
        "cluster\tcantidad de tiendas\n",
        "\n",
        "\tred\t274\n",
        "\n",
        "\tgreen\t368\n",
        "\n",
        "\tblue\t296\n",
        "\n",
        "\tpurple\t482\n",
        "\n",
        "\tyellow\t419\n",
        "\n",
        "\n",
        "Adicionalmente, en el notebook notaras que al inicio exploramos los datos y los graficamos de manera simple, después nos auxiliamos de una librería de datos geográficos.\n",
        "\n",
        "¿qué librerías nos pueden ayudar a graficar este tipo de datos?\n",
        "¿Consideras importante que se grafique en un mapa?, ¿por qué?\n",
        "Agrega las conclusiones\n",
        "\n",
        "A parte de Matplotlib, la libreria que nos puede ayudar a la toma de decisiones es seaborn. En este caso es de suma importanciagraficar los datos en un mapa ya que el problema planteado habla de ubicación y eficiencia en la disminucion de gasolina y costos asociados a la distribucion a cada una de las tiendas\n",
        "\n"
      ],
      "metadata": {
        "id": "dIU5D_C72jP-"
      }
    }
  ]
}